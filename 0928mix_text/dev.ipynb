{
 "cells": [
  {
   "cell_type": "code",
   "execution_count": 7,
   "metadata": {},
   "outputs": [],
   "source": [
    "from datasets import load_dataset\n",
    "\n"
   ]
  },
  {
   "cell_type": "code",
   "execution_count": 18,
   "metadata": {},
   "outputs": [
    {
     "data": {
      "application/vnd.jupyter.widget-view+json": {
       "model_id": "b94b34f9dd874ef58d118ba8ba13402d",
       "version_major": 2,
       "version_minor": 0
      },
      "text/plain": [
       "PMC002xxxxxx_0.jsonl:  49%|####9     | 619M/1.25G [00:00<?, ?B/s]"
      ]
     },
     "metadata": {},
     "output_type": "display_data"
    },
    {
     "data": {
      "application/vnd.jupyter.widget-view+json": {
       "model_id": "e4637d5e3e734a15a6306203657cd3e3",
       "version_major": 2,
       "version_minor": 0
      },
      "text/plain": [
       "Generating train split: 0 examples [00:00, ? examples/s]"
      ]
     },
     "metadata": {},
     "output_type": "display_data"
    }
   ],
   "source": [
    "ds=load_dataset(\"json\",data_files=[\"https://huggingface.co/datasets/hatakeyama-llm-team/PMC/resolve/main/PMC002xxxxxx_0.jsonl\"],\n",
    "                split=\"train\")"
   ]
  },
  {
   "cell_type": "code",
   "execution_count": 19,
   "metadata": {},
   "outputs": [
    {
     "data": {
      "text/plain": [
       "{'text': \"Substance use during pregnancy often leads to involvement in the child welfare system, resulting in multiple social service systems and service providers working with families to achieve successful child welfare outcomes. The Vulnerable Infants Program of Rhode Island (VIP-RI) is a care coordination program developed to work with perinatal substance-users to optimize opportunities for reunification and promote permanency for substance-exposed infants. This paper describes services used by VIP-RI participants and child welfare outcomes.Data collected during the first four years of VIP-RI were used to identify characteristics of program participants, services received, and child welfare outcomes: closed child welfare cases, reunification with biological mothers and identified infant permanent placements.Medical and financial services were associated with positive child welfare outcomes. Medical services included family planning, pre- and post-natal care and HIV test counseling. Financial services included assistance with obtaining entitlement benefits and receiving tangible support such as food and clothing.Findings from this study suggest services that address basic family needs were related to positive child welfare outcomes. The provision of basic services, such as health care and financial assistance through entitlement benefits and tangible donations, may help to establish a foundation so mothers can concentrate on recovery and parenting skills. Identification of services for perinatal substance users that are associated with more successful child welfare outcomes has implications for the child welfare system, treatment providers, courts and families. According to the Substance Abuse and Mental Health Service Administration (SAMHSA), 5% of pregnant women used illicit drugs in the past month . The 200Maternal substance use raises concerns about a woman's capability to adequately care for her child. Risk factors associated with substance abuse such as co-occuring psychiatric problems, violence, difficulties in interpersonal relationships, limited social support, unstable employment histories, and medical problems raise additional concerns about parenting abilities -7. EstimWhen substance use during pregnancy results in child welfare involvement, multiple social service systems intervene to address the family's needs. There is limited information about specific services used by perinatal substance users with child welfare involvement. An examination of services received and child welfare outcomes can increase understanding about how best to intervene with perinatal substance users to achieve positive child welfare outcomes. The present study describes services received by women participating in the Vulnerable Infants Program of Rhode Island (VIP-RI) (described below) and three child welfare outcomes: 1) a closed child welfare case, 2) reunification with biological mother and 3) an identified permanent placement for the infant.The provision of comprehensive services is widely considered to improve treatment outcomes for pregnant and parenting substance-using women -18. WomeRecent research has examined substance abuse treatment services and child welfare outcomes. A study investigating reunification of children whose mothers participated in the California Treatment Outcome Project , reported factors associated with reunification were mother's length of time in treatment and participation in programs that addressed larger family needs such as employment and education . MothersThe Vulnerable Infants Program of Rhode Island (VIP-RI) began as a demonstration grant to provide care coordination services to mothers with an open child welfare case because of drug use during pregnancy. Enrollment in VIP-RI typically occurs during a mother's hospitalization following delivery. When prenatal substance exposure is identified either through maternal self-report or a positive toxicology screen, a hospital social worker informs the mother about VIP-RI and with her consent, makes a referral to the program. The VIP-RI care coordinator assesses maternal and infant needs and facilitates referrals to appropriate services. VIP-RI remains involved with families until a permanent placement for the infant has been identified. In some instances, because of the voluntary nature of the program, families may withdraw before a decision regarding permanency has been made.Mothers who participate in VIP-RI have the option of participating in the Rhode Island Family Treatment Drug Court (RI FTDC). RI FTDC is a specialized court for perinatal substance users that provides structure and support and takes an interactive, therapeutic approach that involves close monitoring and making referrals to substance abuse treatment and ancillary services.VIP-RI's model of closely collaborating with social service agencies expedites parents obtaining the services and supports they need. Services typically arranged by VIP-RI include substance abuse treatment, mental health, medical care, parenting, and help obtaining entitlement benefits. Such services are generally accepted as helpful for perinatal substance users, however, little is known about which services are actually utilized and their relevance to child welfare outcomes. The purpose of this paper is to describe the services used by mothers who participated in VIP-RI and the following child welfare outcomes: 1) status of the child welfare case 2) reunification with biological mother and 3) an identified permanent placement for the infant. To our knowledge this is the first study to describe services for perinatal substance users and child welfare outcomes.An analysis of data from the first four years of VIP-RI identified services used by mothers while participating in VIP-RI and if the child welfare case had been closed, if reunification had been achieved, and if a permanent placement for the infant had been established. The hospital Institutional Review Board granted approval for the pilot VIP-RI program.At enrollment, VIP-RI staff administered a semi-structured face-to-face psychosocial history interview that included measures of maternal characteristics and information about legal invovlement, substance abuse and treatment histories, trauma, and services received. The Substance Abuse Subtle Screening Inventory-3  was usedServices were divided into eight categories shown in Table Chi-Square analysis was performed comparing dichotomous variables  and child welfare outcome variables .During the first four years, 70% of mothers referred to VIP-RI enrolled, for a total of 195 mothers. Reasons for not enrolling were active or passive refusal (64%) , ineligibility when a child welfare case was not opened after the initial CPS investigation (16%), and not being appropriate for reasons that included current incarceration, planning to place the child for adoption, psychiatric issues, not substance abuse, being identified as the primary problem (20%).Most participants in VIP-RI were Caucasian (56%), followed by African American (22%), Hispanic (14%), and other (8%). Primary drugs of choice were cocaine (46%), opiates (27%), marijuana (24%) and alcohol (3%). Maternal ages ranged from 17 to 43 years . At the time of enrollment in VIP-RI, 89% of the mothers were single and had an average of three children (range 1 - 9). Over one third of the sample had less than a high school education (37%), 61% had a high school diploma or equivalent, and 2% had a four-year college degree. Most mothers had no reliable source of income or received disability or entitlement benefits; only 6% were employed.A higher proportion of mothers with at least a high school education , fewer children , or only one child  had closed child welfare cases. Maternal characteristics associated with having an open child welfare case were childhood physical abuse  and a history of criminal conviction .Similar results were found when maternal characteristics and reunification outcomes were analyzed. A greater proportion of mothers with fewer children  or only one child  achieved reunification. A smaller proportion of mothers with less than a high school education were reunified with their children . A smaller proportion of mothers with a history of childhood physical abuse achieved reunification with their infants .At the time of hospital discharge, 32% of infants remained with biological parents, 32% were placed in kinship care, 32% were placed in non-relative foster care and 4% went to specilaized care. Infant placements at the time of discharge from VIP-RI were 56% living with biological parents, 22% in kindship care and 22% in non-relative foster care. There were no statistically significant associations between maternal characteristics and child welfare outcome measures and maternal race, income or age. There also were no statistically significant associations between maternal characteristics and infant permanent placements.As shown in Table As shown in Table As shown in Table Families with parental substance use and child welfare involvement are less likely to reunify and more likely to experience lengthy stays in foster care and higher rates of re-reporting ,33-36. IIn this study, the majority of services related to closed child welfare cases and reunification with biological mother were medical and financial services. Medical services included HIV pre/post test counseling, prenatal and postnatal care, primary medical care and family planning. Medical professionals should be aware of the positive impact they can have on the lives of substance-exposed infants and parents beyond the medical attention they provide. A strong connection with medical providers can serve families well in terms of following through with routine medical visits and providing a foundation of care for a mother to address concerns about her own and her children's health.Financial services that were associated with positive child welfare outcomes included assistance with entitlement benefits and obtaining food and clothing. Stress associated with not having essential needs met can interfere with a woman's ability to focus on treatment and may contribute to her questioning if she is able to adequately provide for her children. Ensuring that a family's basic needs are met may have the additional benefits of promoting a mother's ability to work on recovery and child welfare case plans by allaying worries about how to feed, clothe and shelter her children. Building in these services as part of child welfare, treatment, or court may contribute to more positive child welfare outcomes.Not all services were associated with favorable child welfare outcomes. Permanency services and residential drug treatment were less likely to be associated with reunification with the biological mother or identified permanent placements for infants. Permanency services included providing support to families who were voluntarily or involuntarily having parental rights terminated, which may account for these services being associated with infants not being reunified or having established permanent placements. Residential treatment may have been a marker for more severe addiction and related risk factors, which may have indicated a poorer prognosis.Involvement in child welfare because of drug use during pregnancy is a complicated issue and numerous factors affect child welfare outcomes. This study did not control for other factors that could have influenced child welfare outcome, such as social support networks, satisfaction with services, etc. This study did not correct for multiple comparisons because the purpose of the study was to describe services related to specific outcomes, as this had not been done previously. Adjustment for multiple comparisons protects against rejecting the null hypothesis when it is correct (type I error). However, the cost of this protection is to increase type II error that findings are attributable to chance when they are not.In addition, this study is limited to a population of perinatal substance users who participated in an innovative program, VIP-RI, which has an active partnership with the state's FTDC. There was no comparison group of mothers with open child welfare cases because of drug use during pregnancy who did not participate in VIP-RI.Services that addressed family health and financial needs were associated with favorable child welfare outcomes for perinatal substance users with child welfare involvement. When considering the range of services substance-using women often need, it is important to make sure that their basic needs are not overlooked. Alleviating health and financial pressures may have positive consequences for women struggling to address substance abuse while attempting to assume parenting responsibilities by allowing them to focus more on their recovery and parenting skills as they attempt to succeed with their child welfare case plans.The authors declare that they have no competing interests.KJM, JET & BML conceived of the study and wrote the manuscript. DC performed the statistical analysis. RS & LA coordinated VIP-RI and the collection of data. All authors have read and approved the final manuscript.\"}"
      ]
     },
     "execution_count": 19,
     "metadata": {},
     "output_type": "execute_result"
    }
   ],
   "source": [
    "ds[0]"
   ]
  },
  {
   "cell_type": "code",
   "execution_count": 21,
   "metadata": {},
   "outputs": [
    {
     "data": {
      "application/vnd.jupyter.widget-view+json": {
       "model_id": "0a1819fad5224a48a83a60b0ebd9de31",
       "version_major": 2,
       "version_minor": 0
      },
      "text/plain": [
       "Uploading the dataset shards:   0%|          | 0/3 [00:00<?, ?it/s]"
      ]
     },
     "metadata": {},
     "output_type": "display_data"
    },
    {
     "data": {
      "application/vnd.jupyter.widget-view+json": {
       "model_id": "18b36cf6e7514223b7459bc27a683c60",
       "version_major": 2,
       "version_minor": 0
      },
      "text/plain": [
       "Creating parquet from Arrow format:   0%|          | 0/39 [00:00<?, ?ba/s]"
      ]
     },
     "metadata": {},
     "output_type": "display_data"
    },
    {
     "data": {
      "application/vnd.jupyter.widget-view+json": {
       "model_id": "8c68a0a9f2084f368f0670a27273a89e",
       "version_major": 2,
       "version_minor": 0
      },
      "text/plain": [
       "Creating parquet from Arrow format:   0%|          | 0/39 [00:00<?, ?ba/s]"
      ]
     },
     "metadata": {},
     "output_type": "display_data"
    },
    {
     "data": {
      "application/vnd.jupyter.widget-view+json": {
       "model_id": "412362b3d82943c082436f3b12201838",
       "version_major": 2,
       "version_minor": 0
      },
      "text/plain": [
       "Creating parquet from Arrow format:   0%|          | 0/39 [00:00<?, ?ba/s]"
      ]
     },
     "metadata": {},
     "output_type": "display_data"
    },
    {
     "data": {
      "text/plain": [
       "CommitInfo(commit_url='https://huggingface.co/datasets/hatakeyama-llm-team/PMC/commit/fee4cdce133b179b4b33fa9b1e2f495cc27a9561', commit_message='Upload dataset', commit_description='', oid='fee4cdce133b179b4b33fa9b1e2f495cc27a9561', pr_url=None, pr_revision=None, pr_num=None)"
      ]
     },
     "execution_count": 21,
     "metadata": {},
     "output_type": "execute_result"
    }
   ],
   "source": [
    "#ds.push_to_hub(\"hatakeyama-llm-team/PMC\",split=\"PMC002xxxxxx_0\")"
   ]
  },
  {
   "cell_type": "code",
   "execution_count": 22,
   "metadata": {},
   "outputs": [
    {
     "data": {
      "application/vnd.jupyter.widget-view+json": {
       "model_id": "e3383228a57345069edc9855e5fa0181",
       "version_major": 2,
       "version_minor": 0
      },
      "text/plain": [
       "README.md:   0%|          | 0.00/311 [00:00<?, ?B/s]"
      ]
     },
     "metadata": {},
     "output_type": "display_data"
    },
    {
     "data": {
      "application/vnd.jupyter.widget-view+json": {
       "model_id": "57b588523d644649952871fae6013b9d",
       "version_major": 2,
       "version_minor": 0
      },
      "text/plain": [
       "PMC002xxxxxx_0-00000-of-00003.parquet:   0%|          | 0.00/218M [00:00<?, ?B/s]"
      ]
     },
     "metadata": {},
     "output_type": "display_data"
    },
    {
     "data": {
      "application/vnd.jupyter.widget-view+json": {
       "model_id": "968b1ddc873945528e257c19c36625e1",
       "version_major": 2,
       "version_minor": 0
      },
      "text/plain": [
       "PMC002xxxxxx_0-00001-of-00003.parquet:   0%|          | 0.00/218M [00:00<?, ?B/s]"
      ]
     },
     "metadata": {},
     "output_type": "display_data"
    },
    {
     "data": {
      "application/vnd.jupyter.widget-view+json": {
       "model_id": "20758ad0e90645faa35bdfaf19c12579",
       "version_major": 2,
       "version_minor": 0
      },
      "text/plain": [
       "PMC002xxxxxx_0-00002-of-00003.parquet:   0%|          | 0.00/219M [00:00<?, ?B/s]"
      ]
     },
     "metadata": {},
     "output_type": "display_data"
    },
    {
     "data": {
      "application/vnd.jupyter.widget-view+json": {
       "model_id": "1b8a06b08e954983a0be5ade4a6a9b89",
       "version_major": 2,
       "version_minor": 0
      },
      "text/plain": [
       "Generating PMC002xxxxxx_0 split:   0%|          | 0/116737 [00:00<?, ? examples/s]"
      ]
     },
     "metadata": {},
     "output_type": "display_data"
    }
   ],
   "source": [
    "\n",
    "ds=load_dataset(\"hatakeyama-llm-team/PMC\",split=\"PMC002xxxxxx_0\")"
   ]
  },
  {
   "cell_type": "code",
   "execution_count": null,
   "metadata": {},
   "outputs": [],
   "source": []
  }
 ],
 "metadata": {
  "kernelspec": {
   "display_name": "llama",
   "language": "python",
   "name": "python3"
  },
  "language_info": {
   "codemirror_mode": {
    "name": "ipython",
    "version": 3
   },
   "file_extension": ".py",
   "mimetype": "text/x-python",
   "name": "python",
   "nbconvert_exporter": "python",
   "pygments_lexer": "ipython3",
   "version": "3.10.14"
  }
 },
 "nbformat": 4,
 "nbformat_minor": 2
}
