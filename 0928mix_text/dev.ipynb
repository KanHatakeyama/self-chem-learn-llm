{
 "cells": [
  {
   "cell_type": "code",
   "execution_count": 1,
   "metadata": {},
   "outputs": [],
   "source": [
    "from datasets import load_dataset\n",
    "\n"
   ]
  },
  {
   "cell_type": "code",
   "execution_count": 2,
   "metadata": {},
   "outputs": [
    {
     "data": {
      "application/vnd.jupyter.widget-view+json": {
       "model_id": "7673ac5fad974f0bb797273d1b7a29f5",
       "version_major": 2,
       "version_minor": 0
      },
      "text/plain": [
       "PMC005xxxxxx_0.jsonl:   0%|          | 0.00/5.24G [00:00<?, ?B/s]"
      ]
     },
     "metadata": {},
     "output_type": "display_data"
    },
    {
     "data": {
      "application/vnd.jupyter.widget-view+json": {
       "model_id": "7aed92553af64debb540a7d91b440238",
       "version_major": 2,
       "version_minor": 0
      },
      "text/plain": [
       "Generating train split: 0 examples [00:00, ? examples/s]"
      ]
     },
     "metadata": {},
     "output_type": "display_data"
    }
   ],
   "source": [
    "ds=load_dataset(\"json\",data_files=[\"https://huggingface.co/datasets/hatakeyama-llm-team/PMC/resolve/main/PMC005xxxxxx_0.jsonl\"],\n",
    "                split=\"train\")"
   ]
  },
  {
   "cell_type": "code",
   "execution_count": 3,
   "metadata": {},
   "outputs": [
    {
     "data": {
      "text/plain": [
       "{'text': 'Currently, one of the main challenges in human molecular genetics is the interpretation of rare genetic variants of unknown clinical significance. A conclusive diagnosis is of importance for the patient to obtain certainty about the cause of the disease, for the clinician to be able to provide optimal care to the patient and to predict the disease course, and for the clinical geneticist for genetic counseling of the patient and family members. Conclusive evidence for pathogenicity of genetic variants is therefore crucial. This review gives an introduction to the problem of the interpretation of genetic variants of unknown clinical significance in view of the recent advances in genetic screening, and gives an overview of the possibilities for functional tests that can be performed to answer questions about the function of genes and the functional consequences of genetic variants  in the field of inborn errors of metabolism (IEM), including several examples of functional genomics studies of mitochondrial disorders and several other IEM. The introduction of next generation sequencing, and in particular of whole exome sequencing (WES), as a tool in a routine molecular genetics diagnostics setting, has revolutionized the field of molecular genetics and IEM. In the pre-NGS era, often a large number of functional diagnostic tests, such as metabolite screening and enzyme analysis, were needed to establish a biochemical diagnosis and to identify candidate genes, which were subsequently sequenced one by one. Nowadays, WES is used routinely as a tool to diagnose many different IEMs. WES is particularly suitable to diagnose disorders with a large number of candidate genes and a broad clinical spectrum, such as mitochondrial disorders or congenital disorders of glycosylation  sequencing does not result in a genetic diagnosis  , showing that metabolite profiles from sera more than doubled the power of the GWAS, and identified variants in several genes involved in lipid/fatty acid metabolism . It is easy to grow and to genetically manipulate, and genetic knock outs of virtually every yeast gene are readily available. However, yeast can be used for functional analysis of genetic variants in only a subset of human genes. It has been estimated that around 25% of the known human disease genes have an annotated yeast ortholog, and an additional 20% have a yeast paralog , encoding mitochondrial malate dehydrogenase. This gene was recently identified as a mitochondrial disease gene  knock out strain, a GALT cDNA with the patients mutation was unable to do so, demonstrating that the amino acid substitution disrupts GALT function , that had been identified by exome sequencing in a family with autosomal dominant Charcot-Marie-Tooth disease. In this study, it was shown that the missense variant inhibited the axonal branching in peripheral neurons of the developing zebrafish, providing important evidence for pathogenicity of the DGAT2 genetic variant as a cause for Charcot-Marie-Tooth disease type 2 neuropathy  developmental abnormalities, as for example illustrated by a recent study of classic galactosemia in a zebrafish model showing reduced motor activity and impaired fertility  (Takahashi and Yamanaka broadinstitute.org), Exome Variant Server (evs.gs.washington.edu/EVS), 1000 Genomes Browser (www.ncbi.nlm.nih.gov/variation/tools/1000genomes), the Leiden Open Variation Database , ClinVar (www.ncbi.nlm.nih.gov/clinvar), ClinGen ). The availability of shared genetic data in such databases, as well as the possibility to share information by match-making tools such as GeneMatcher that make it possible to find patients with the same rare condition  with information on all cellular functions, including metabolic pathways; Brenda (www.brenda-enzymes.info) with information on enzyme function; and GeneCards (www.genecards.org), with information on all human genes, including links to various other databases. There are also several databases for which a subscription fee is required, for example the Online Metabolic and Molecular Bases of Inherited Disease . In addition to these general reference databases, there are databases with functional information generated by knock-down or knock-out of entire genes, which does give information on the possible involvement of certain genes in certain pathways. There have been several studies in which genome-wide gene knock-outs (or knock downs) have been performed to obtain functional information, and these data could be of help for the interpretation of WES data. A recent example of this is the study in which a genome-wide CRISPR/Cas9 knock-out screen was performed to identify genes essential for the mitochondrial oxidative phosphorylation system  were produced by performing functional tests of variants in a yeast model system in combination with machine learning to refine the functional map of these genes  disorders or types of functional tests, and make it possible that other centers can send in diagnostic requests for functional validation studies. Such specialization will also be beneficial for selecting the most optimal approach for functional follow-up of genetic test results. Many types of functional tests depend on the availability of patient material, such as skin fibroblasts or EBV-transformed lymphoblasts, and therefore it is of importance to take the possibility of collecting patient material into consideration when initiating WES/WGS diagnostics.In conclusion, the introduction of massive parallel sequencing in diagnostic molecular genetics has revolutionized the field of IEM. It has made it possible to identify even the rarest of genetic defects by a routinely performed diagnostic test, such as whole exome sequencing. It has also created new diagnostic challenges because of the detection of increasing numbers of genetic variants of unknown clinical significance. Currently, exome sequencing is operational as a diagnostic test in many genetic centers. The next major step is already taking place, with the introduction of whole genome sequencing in a diagnostic laboratory environment. This will lead to growing numbers of even more challenging questions about the possible functional consequences of unknown genetic variants. Functional tests are a powerful way to demonstrate the pathogenicity of such genetic variants, and therefore the functional genomics laboratory will be an important complement to genetics laboratories in the years to come.'}"
      ]
     },
     "execution_count": 3,
     "metadata": {},
     "output_type": "execute_result"
    }
   ],
   "source": [
    "ds[0]"
   ]
  },
  {
   "cell_type": "code",
   "execution_count": 4,
   "metadata": {},
   "outputs": [
    {
     "data": {
      "application/vnd.jupyter.widget-view+json": {
       "model_id": "b12ef8d407984a79a2a073fd6cc47209",
       "version_major": 2,
       "version_minor": 0
      },
      "text/plain": [
       "Uploading the dataset shards:   0%|          | 0/11 [00:00<?, ?it/s]"
      ]
     },
     "metadata": {},
     "output_type": "display_data"
    },
    {
     "data": {
      "application/vnd.jupyter.widget-view+json": {
       "model_id": "508f64a5e27f4a9eb335cff4197f8d5d",
       "version_major": 2,
       "version_minor": 0
      },
      "text/plain": [
       "Creating parquet from Arrow format:   0%|          | 0/35 [00:00<?, ?ba/s]"
      ]
     },
     "metadata": {},
     "output_type": "display_data"
    },
    {
     "data": {
      "application/vnd.jupyter.widget-view+json": {
       "model_id": "4687d673d3b44507a9e6dc8b34217515",
       "version_major": 2,
       "version_minor": 0
      },
      "text/plain": [
       "Creating parquet from Arrow format:   0%|          | 0/35 [00:00<?, ?ba/s]"
      ]
     },
     "metadata": {},
     "output_type": "display_data"
    },
    {
     "data": {
      "application/vnd.jupyter.widget-view+json": {
       "model_id": "8f5ab55ac6b3473cab7181914ac476c2",
       "version_major": 2,
       "version_minor": 0
      },
      "text/plain": [
       "Creating parquet from Arrow format:   0%|          | 0/35 [00:00<?, ?ba/s]"
      ]
     },
     "metadata": {},
     "output_type": "display_data"
    },
    {
     "data": {
      "application/vnd.jupyter.widget-view+json": {
       "model_id": "ac84729a6bdf494a96adfec8dec04c53",
       "version_major": 2,
       "version_minor": 0
      },
      "text/plain": [
       "Creating parquet from Arrow format:   0%|          | 0/35 [00:00<?, ?ba/s]"
      ]
     },
     "metadata": {},
     "output_type": "display_data"
    },
    {
     "data": {
      "application/vnd.jupyter.widget-view+json": {
       "model_id": "c4027d23a89d4ef5a7ad2f1a0c28da5c",
       "version_major": 2,
       "version_minor": 0
      },
      "text/plain": [
       "Creating parquet from Arrow format:   0%|          | 0/35 [00:00<?, ?ba/s]"
      ]
     },
     "metadata": {},
     "output_type": "display_data"
    },
    {
     "data": {
      "application/vnd.jupyter.widget-view+json": {
       "model_id": "75c5c02682a944629dd497efc9739e3e",
       "version_major": 2,
       "version_minor": 0
      },
      "text/plain": [
       "Creating parquet from Arrow format:   0%|          | 0/35 [00:00<?, ?ba/s]"
      ]
     },
     "metadata": {},
     "output_type": "display_data"
    },
    {
     "data": {
      "application/vnd.jupyter.widget-view+json": {
       "model_id": "8e7812f64678498a9bf2be55dec2e945",
       "version_major": 2,
       "version_minor": 0
      },
      "text/plain": [
       "Creating parquet from Arrow format:   0%|          | 0/35 [00:00<?, ?ba/s]"
      ]
     },
     "metadata": {},
     "output_type": "display_data"
    },
    {
     "data": {
      "application/vnd.jupyter.widget-view+json": {
       "model_id": "7ae7627aa69a4a199be8fb38169b94d6",
       "version_major": 2,
       "version_minor": 0
      },
      "text/plain": [
       "Creating parquet from Arrow format:   0%|          | 0/35 [00:00<?, ?ba/s]"
      ]
     },
     "metadata": {},
     "output_type": "display_data"
    },
    {
     "data": {
      "application/vnd.jupyter.widget-view+json": {
       "model_id": "9d38eb6751c349689a8270766abf4bb8",
       "version_major": 2,
       "version_minor": 0
      },
      "text/plain": [
       "Creating parquet from Arrow format:   0%|          | 0/35 [00:00<?, ?ba/s]"
      ]
     },
     "metadata": {},
     "output_type": "display_data"
    },
    {
     "data": {
      "application/vnd.jupyter.widget-view+json": {
       "model_id": "246b5117769f431b8bbadd9acd2e3b54",
       "version_major": 2,
       "version_minor": 0
      },
      "text/plain": [
       "Creating parquet from Arrow format:   0%|          | 0/35 [00:00<?, ?ba/s]"
      ]
     },
     "metadata": {},
     "output_type": "display_data"
    },
    {
     "data": {
      "application/vnd.jupyter.widget-view+json": {
       "model_id": "39435fa11d7049ee8c4d8f8ef4c79ab1",
       "version_major": 2,
       "version_minor": 0
      },
      "text/plain": [
       "Creating parquet from Arrow format:   0%|          | 0/35 [00:00<?, ?ba/s]"
      ]
     },
     "metadata": {},
     "output_type": "display_data"
    },
    {
     "data": {
      "text/plain": [
       "CommitInfo(commit_url='https://huggingface.co/datasets/hatakeyama-llm-team/PMC/commit/c30fd13e08fd82873c853619c65273108ae9a5da', commit_message='Upload dataset', commit_description='', oid='c30fd13e08fd82873c853619c65273108ae9a5da', pr_url=None, pr_revision=None, pr_num=None)"
      ]
     },
     "execution_count": 4,
     "metadata": {},
     "output_type": "execute_result"
    }
   ],
   "source": [
    "ds.push_to_hub(\"hatakeyama-llm-team/PMC\",split=\"PMC005xxxxxx_0\")"
   ]
  },
  {
   "cell_type": "code",
   "execution_count": 22,
   "metadata": {},
   "outputs": [
    {
     "data": {
      "application/vnd.jupyter.widget-view+json": {
       "model_id": "e3383228a57345069edc9855e5fa0181",
       "version_major": 2,
       "version_minor": 0
      },
      "text/plain": [
       "README.md:   0%|          | 0.00/311 [00:00<?, ?B/s]"
      ]
     },
     "metadata": {},
     "output_type": "display_data"
    },
    {
     "data": {
      "application/vnd.jupyter.widget-view+json": {
       "model_id": "57b588523d644649952871fae6013b9d",
       "version_major": 2,
       "version_minor": 0
      },
      "text/plain": [
       "PMC002xxxxxx_0-00000-of-00003.parquet:   0%|          | 0.00/218M [00:00<?, ?B/s]"
      ]
     },
     "metadata": {},
     "output_type": "display_data"
    },
    {
     "data": {
      "application/vnd.jupyter.widget-view+json": {
       "model_id": "968b1ddc873945528e257c19c36625e1",
       "version_major": 2,
       "version_minor": 0
      },
      "text/plain": [
       "PMC002xxxxxx_0-00001-of-00003.parquet:   0%|          | 0.00/218M [00:00<?, ?B/s]"
      ]
     },
     "metadata": {},
     "output_type": "display_data"
    },
    {
     "data": {
      "application/vnd.jupyter.widget-view+json": {
       "model_id": "20758ad0e90645faa35bdfaf19c12579",
       "version_major": 2,
       "version_minor": 0
      },
      "text/plain": [
       "PMC002xxxxxx_0-00002-of-00003.parquet:   0%|          | 0.00/219M [00:00<?, ?B/s]"
      ]
     },
     "metadata": {},
     "output_type": "display_data"
    },
    {
     "data": {
      "application/vnd.jupyter.widget-view+json": {
       "model_id": "1b8a06b08e954983a0be5ade4a6a9b89",
       "version_major": 2,
       "version_minor": 0
      },
      "text/plain": [
       "Generating PMC002xxxxxx_0 split:   0%|          | 0/116737 [00:00<?, ? examples/s]"
      ]
     },
     "metadata": {},
     "output_type": "display_data"
    }
   ],
   "source": [
    "\n",
    "#ds=load_dataset(\"hatakeyama-llm-team/PMC\",split=\"PMC002xxxxxx_0\")"
   ]
  },
  {
   "cell_type": "code",
   "execution_count": null,
   "metadata": {},
   "outputs": [],
   "source": []
  }
 ],
 "metadata": {
  "kernelspec": {
   "display_name": "llama",
   "language": "python",
   "name": "python3"
  },
  "language_info": {
   "codemirror_mode": {
    "name": "ipython",
    "version": 3
   },
   "file_extension": ".py",
   "mimetype": "text/x-python",
   "name": "python",
   "nbconvert_exporter": "python",
   "pygments_lexer": "ipython3",
   "version": "3.10.14"
  }
 },
 "nbformat": 4,
 "nbformat_minor": 2
}
