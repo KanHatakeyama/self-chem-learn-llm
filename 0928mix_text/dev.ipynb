{
 "cells": [
  {
   "cell_type": "code",
   "execution_count": 1,
   "metadata": {},
   "outputs": [],
   "source": [
    "from datasets import load_dataset\n",
    "\n"
   ]
  },
  {
   "cell_type": "code",
   "execution_count": 2,
   "metadata": {},
   "outputs": [
    {
     "data": {
      "application/vnd.jupyter.widget-view+json": {
<<<<<<< HEAD
       "model_id": "7673ac5fad974f0bb797273d1b7a29f5",
=======
       "model_id": "fe3ae369d388409d829c217898bcc972",
>>>>>>> d2b4e79 (add control)
       "version_major": 2,
       "version_minor": 0
      },
      "text/plain": [
<<<<<<< HEAD
       "PMC005xxxxxx_0.jsonl:   0%|          | 0.00/5.24G [00:00<?, ?B/s]"
=======
       "PMC003xxxxxx_0.jsonl:   0%|          | 0.00/3.93G [00:00<?, ?B/s]"
>>>>>>> d2b4e79 (add control)
      ]
     },
     "metadata": {},
     "output_type": "display_data"
    },
    {
     "data": {
      "application/vnd.jupyter.widget-view+json": {
<<<<<<< HEAD
       "model_id": "7aed92553af64debb540a7d91b440238",
=======
       "model_id": "9d3af9596ec64442ada0c7d1c731fbce",
>>>>>>> d2b4e79 (add control)
       "version_major": 2,
       "version_minor": 0
      },
      "text/plain": [
       "Generating train split: 0 examples [00:00, ? examples/s]"
      ]
     },
     "metadata": {},
     "output_type": "display_data"
    }
   ],
   "source": [
<<<<<<< HEAD
    "ds=load_dataset(\"json\",data_files=[\"https://huggingface.co/datasets/hatakeyama-llm-team/PMC/resolve/main/PMC005xxxxxx_0.jsonl\"],\n",
=======
    "ds=load_dataset(\"json\",data_files=[\"https://huggingface.co/datasets/hatakeyama-llm-team/PMC/resolve/main/PMC003xxxxxx_0.jsonl\"],\n",
>>>>>>> d2b4e79 (add control)
    "                split=\"train\")"
   ]
  },
  {
   "cell_type": "code",
   "execution_count": 3,
   "metadata": {},
   "outputs": [
    {
     "data": {
      "text/plain": [
<<<<<<< HEAD
       "{'text': 'Currently, one of the main challenges in human molecular genetics is the interpretation of rare genetic variants of unknown clinical significance. A conclusive diagnosis is of importance for the patient to obtain certainty about the cause of the disease, for the clinician to be able to provide optimal care to the patient and to predict the disease course, and for the clinical geneticist for genetic counseling of the patient and family members. Conclusive evidence for pathogenicity of genetic variants is therefore crucial. This review gives an introduction to the problem of the interpretation of genetic variants of unknown clinical significance in view of the recent advances in genetic screening, and gives an overview of the possibilities for functional tests that can be performed to answer questions about the function of genes and the functional consequences of genetic variants  in the field of inborn errors of metabolism (IEM), including several examples of functional genomics studies of mitochondrial disorders and several other IEM. The introduction of next generation sequencing, and in particular of whole exome sequencing (WES), as a tool in a routine molecular genetics diagnostics setting, has revolutionized the field of molecular genetics and IEM. In the pre-NGS era, often a large number of functional diagnostic tests, such as metabolite screening and enzyme analysis, were needed to establish a biochemical diagnosis and to identify candidate genes, which were subsequently sequenced one by one. Nowadays, WES is used routinely as a tool to diagnose many different IEMs. WES is particularly suitable to diagnose disorders with a large number of candidate genes and a broad clinical spectrum, such as mitochondrial disorders or congenital disorders of glycosylation  sequencing does not result in a genetic diagnosis  , showing that metabolite profiles from sera more than doubled the power of the GWAS, and identified variants in several genes involved in lipid/fatty acid metabolism . It is easy to grow and to genetically manipulate, and genetic knock outs of virtually every yeast gene are readily available. However, yeast can be used for functional analysis of genetic variants in only a subset of human genes. It has been estimated that around 25% of the known human disease genes have an annotated yeast ortholog, and an additional 20% have a yeast paralog , encoding mitochondrial malate dehydrogenase. This gene was recently identified as a mitochondrial disease gene  knock out strain, a GALT cDNA with the patients mutation was unable to do so, demonstrating that the amino acid substitution disrupts GALT function , that had been identified by exome sequencing in a family with autosomal dominant Charcot-Marie-Tooth disease. In this study, it was shown that the missense variant inhibited the axonal branching in peripheral neurons of the developing zebrafish, providing important evidence for pathogenicity of the DGAT2 genetic variant as a cause for Charcot-Marie-Tooth disease type 2 neuropathy  developmental abnormalities, as for example illustrated by a recent study of classic galactosemia in a zebrafish model showing reduced motor activity and impaired fertility  (Takahashi and Yamanaka broadinstitute.org), Exome Variant Server (evs.gs.washington.edu/EVS), 1000 Genomes Browser (www.ncbi.nlm.nih.gov/variation/tools/1000genomes), the Leiden Open Variation Database , ClinVar (www.ncbi.nlm.nih.gov/clinvar), ClinGen ). The availability of shared genetic data in such databases, as well as the possibility to share information by match-making tools such as GeneMatcher that make it possible to find patients with the same rare condition  with information on all cellular functions, including metabolic pathways; Brenda (www.brenda-enzymes.info) with information on enzyme function; and GeneCards (www.genecards.org), with information on all human genes, including links to various other databases. There are also several databases for which a subscription fee is required, for example the Online Metabolic and Molecular Bases of Inherited Disease . In addition to these general reference databases, there are databases with functional information generated by knock-down or knock-out of entire genes, which does give information on the possible involvement of certain genes in certain pathways. There have been several studies in which genome-wide gene knock-outs (or knock downs) have been performed to obtain functional information, and these data could be of help for the interpretation of WES data. A recent example of this is the study in which a genome-wide CRISPR/Cas9 knock-out screen was performed to identify genes essential for the mitochondrial oxidative phosphorylation system  were produced by performing functional tests of variants in a yeast model system in combination with machine learning to refine the functional map of these genes  disorders or types of functional tests, and make it possible that other centers can send in diagnostic requests for functional validation studies. Such specialization will also be beneficial for selecting the most optimal approach for functional follow-up of genetic test results. Many types of functional tests depend on the availability of patient material, such as skin fibroblasts or EBV-transformed lymphoblasts, and therefore it is of importance to take the possibility of collecting patient material into consideration when initiating WES/WGS diagnostics.In conclusion, the introduction of massive parallel sequencing in diagnostic molecular genetics has revolutionized the field of IEM. It has made it possible to identify even the rarest of genetic defects by a routinely performed diagnostic test, such as whole exome sequencing. It has also created new diagnostic challenges because of the detection of increasing numbers of genetic variants of unknown clinical significance. Currently, exome sequencing is operational as a diagnostic test in many genetic centers. The next major step is already taking place, with the introduction of whole genome sequencing in a diagnostic laboratory environment. This will lead to growing numbers of even more challenging questions about the possible functional consequences of unknown genetic variants. Functional tests are a powerful way to demonstrate the pathogenicity of such genetic variants, and therefore the functional genomics laboratory will be an important complement to genetics laboratories in the years to come.'}"
=======
       "{'text': 'Rasagenthi Mezhugu (RGM) is a herbomineral formulation in the Siddha system of traditional medicine and is prescribed in the southern parts of India as a remedy for all kinds of cancers. However, scientific evidence for its therapeutic efficacy in cervical cancer is lacking, and it contains heavy metals. To overcome these limitations, RGM was extracted, and the fractions were tested on HPV-positive cervical cancer cells, ME-180 and SiHa. The extracts, free from the toxic heavy metals, affected the viability of both the cells. The chloroform fraction (cRGM) induced DNA damage and apoptosis. Mitochondria-mediated apoptosis was indicated. Though both the cells responded to the treatment, ME-180 was more responsive. Thus, this study brings up scientific evidence for the efficacy of RGM against the HPV-mediated cervical cancer cells and, if the toxic heavy metals are the limitation in its use, cRGM would be a suitable candidate as evidence-based complementary and alternative medicine for HPV-positive cervical cancers. Cancer is one of the major public health problems worldwide and accounts for an estimated 2.5 million cases in India alone . In the in vitro. Also, the heavy metals in RGM, mercury, lead, and arsenic, are toxic [in vitro testing. Thus, chloroform fraction of RGM was shown to be cytotoxic to prostate cancer cell PC3 [ Siddha is one among the three popular Indian traditional medicinal systems, the other two being Ayurveda and Unani. Siddha medicine formulations are mostly polyherbal, but may also include metals, chemicals, and/or animal products. The common Siddha preparations are Bhasma , Churna (powders), Kashaya (decoctions), Lehya (confections), Ghrita (ghee), Taila (oil), and Mezhugu (wax). Rasagenthi Mezhugu (RGM), a Siddha medicine, is a formulation containing 38 different botanicals and 8 inorganic substances, some of which are heavy metals . Siddha re toxic , 9. The cell PC3  and lung Cervical cancer is one of the serious health problems in women . In Indihttp://www.impcops.org/), and its composition has been already described [Rasagenthi Mezhugu was obtained from Indian Medical Practitioners Co-operative Pharmacy and Stores Ltd., , an authoritative source of Indian medicines . The extraction procedure also has been previously described . Brieflyμg/mL streptomycin as antibiotics  in a humidified atmosphere of 5% CO2 and 95% air in a CO2 incubator .Human cervical cancer cells ME-180 and SiHa were obtained from National Center for Cell Science (NCCS), Pune, India. The cells were maintained in DMEM medium supplemented with 10% FBS , and with 100\\u2009U/mL penicillin and 100\\u2009μg/mL, dissolved in DMSO (Sigma-Aldrich), were added to the wells, 24\\u2009h after seeding of 5 × 103\\u2009cells per well of 96-well plate. DMSO was used as the solvent control. After 24 and 48\\u2009h of incubation, 20\\u2009μL of MTT solution ) was added to each well, and the plates were wrapped with aluminum foil and incubated for 4\\u2009h at 37°C. The purple formazan product was dissolved by addition of 100\\u2009μL of 100% DMSO to each well. The absorbance was monitored at 570\\u2009nm (measurement) and 630\\u2009nm (reference) using a 96-well plate reader . Data were collected for four replicates each and used to calculate the means and the standard deviations. The percentage inhibition was calculated from this data using the following formula: 50 for the respective extracts, and for the respective durations of treatment, that is, 24 and 48\\u2009h, was deduced from the curves obtained by plotting percentage inhibition against concentration. Since the MTT test indicated that the chloroform extract of RGM was the most efficacious among the five extracts, and it affected the viability of the cells at concentrations very low compared to the others, subsequent studies were limited to this extract (cRGM).All five RGM extracts, in the concentration range of 0–500\\u200950 concentration of cRGM. After 24 and 48\\u2009h incubation, the treated and untreated cells were harvested and stained with Hoechst 33258  for 5\\u2009min at room temperature. A drop of cell suspension was placed on a glass slide, and a cover slip was laid over to reduce light diffraction. At random 300 cells, in duplicate, were observed at ×400 in a fluorescent microscope  fitted with a 377–355\\u2009nm filter, and the percentage of cells reflecting pathological changes was calculated. The cervical cancer cells ME-180 and SiHa were cultured in 6-well plates and treated with IC50 concentration of cRGM for 24 and 48\\u2009h. The treated and untreated cells (25\\u2009μL of suspension containing 5\\u2009\\u2009×\\u2009\\u2009105\\u2009cells) were incubated with acridine orange and ethidium bromide solution (1 part of 100\\u2009μg/mL acridine orange and 1 part of 100\\u2009μg/mL ethidium bromide in PBS) and examined in the fluorescent microscope using a UV filter (450–490\\u2009nm). Three hundred cells per sample were counted, in duplicate, for each time point . The cells were scored as viable or dead, and if dead, whether by apoptosis or necrosis as judged from nuclear morphology and cytoplasmic organization. The percentages of apoptotic and necrotic cells were then calculated. Morphological features of interest were photographed.Acridine orange (AO) and ethidium bromide (EB) staining was performed as described by Spector et al. . The cel50 concentration; 24 and 48\\u2009h treatment) and control cells were suspended in low-melting-point agarose in PBS and pipetted on to microscope slides precoated with a layer of normal-melting-point agarose. The slides were chilled on ice for 10\\u2009min and then immersed in lysis solution , and the solution was kept overnight at 4°C in order to lyse the cells and to permit DNA unfolding. The slides were then exposed to alkaline buffer  for 20\\u2009min to allow DNA unwinding. The slides were washed with buffer  to neutralize excess alkali and to remove detergents, before staining with EB. Photomicrographs were obtained using the fluorescent microscope. One hundred cells, in duplicate, from each treatment group were digitalized and analyzed using Comet Assay Software Program (CASP). The images were used to estimate the DNA content of individual nuclei and to evaluate the degree of DNA damage that represented the fraction of total DNA in the tail. DNA damage was detected by adopting the comet assay . Treated50 concentration of cRGM. After 12 and 24\\u2009h exposure, the cells were stained for 30\\u2009min with JC-1 (2\\u2009μg/mL) in the culture medium. The adherent cell layer was then washed with PBS and lifted using 250\\u2009μL of trypsinEDTA. The cells were collected in PBS, washed by centrifugation, resuspended in 0.3\\u2009mL of PBS, mixed gently, and examined in the fluorescent microscope using a UV filter (450–490\\u2009nM). The specific fluorescent patterns were indicative of intact (red fluorescence) or loss (green fluorescence) of mitochondrial transmembrane potential (ΔΨm). Mitochondrial transmembrane potential was assessed using the fluorescent probe JC-1, which produces green fluorescence in the cytoplasm and red-orange fluorescence when accumulated in healthy mitochondria. In case the mitochondrial membrane potential is affected, JC1 will be limited to cytoplasm, and the whole cell will fluoresce green. The cells were grown in six well plates and treated with IC50 concentration of cRGM. After 12 and 24\\u2009h incubation, the cells were harvested, centrifuged, and pellets were collected. The cell pellet was washed with PBS and then with 1x binding buffer. The washed cell pellet was suspended in 50\\u2009μL of double-label staining solution (Ann-Cy3 and 6-CFDA) and kept in dark for 10\\u2009min. After the incubation, the excess label was removed by washing the cells with 1x binding buffer. The annexin-Cy3 and 6-CFDA-labelled cells were observed in the fluorescent microscope. 300 cells at random were observed. This assay facilitated detection of live cells (green), necrotic cells (red), and apoptotic cells (red nuclei and green cytoplasm). The percentage of cells reflecting cell death  was calculated. Data were collected from two individual experiments, each in duplicate, and used to calculate the respective means and the standard deviations.Phosphatidylserine translocation from inner to outer leaflet of the plasma membrane is one of the early features of apoptosis. Cell surface phosphatidylserine was detected using phosphatidylserine-binding protein annexin V conjugated with Cy3 using the commercially available annexin V-Cy3 apoptosis detection kit . The cells were treated with ICP < 0.05.Numerical data are expressed as mean ± standard deviation (SD). Statistical differences were evaluated by a one-way analysis of variance (ANOVA) using statistical package for social sciences (SPSS) software for window9 Version 11.5 (SPSS) Inc., Chicago, Ill, USA). Posthoc test was performed for comparisons using the least significant difference (LSD) test. Differences were considered statistically significant when MTT assay determines the integrity of mitochondria and reflects the viability or otherwise of the cells. The results of MTT assay showed that although all extracts of cRGM, other than water extract, inhibited proliferation of both SiHa and ME-180 cervical cancer cells in time- and dose-dependent manner, cRGM was the most efficacious since it affected viability of the cells at a concentration many times lesser than the others . Of the Hoechst 33528 staining showed that there were significant changes in the chromatin of treated cells. In the untreated cells, the nuclei were round, even, and homogenous, and the chromatin was intact. After treatment with cRGM for 24 and 48\\u2009h, the intensity of blue fluorescence emittance in respect of the treated cells was much brighter than the control cells, and changes in the chromatin such as condensation, marginalization, and fragmentation were observed .  The nuclei were found to be abnormal in 31% and 54% of cRGM-treated SiHa cells in the 24, 48\\u2009h treatment groups, respectively. In the case of ME-180 cell, the impact was much higher, since 45% and 61% of cells were affected during 24 and 48\\u2009h treatment, respectively The results obtained with AO & EB double staining of control and treated cells are presented in the In order to find if the treatment brings about DNA damage, which is an early event in apoptosis, single cell gel electrophoresis (Comet assay) was conducted. After staining with ethidium bromide and observation under fluorescent microscope , the celThe mitochondrial permeability transition is an important step in the induction of cellular apoptosis. The mitochondrial membrane potential was detected using the unique fluorescent cationic dye, JC-1. The cRGM-treated cells showed progressive loss of red JC-aggregate fluorescence, and appearance of green monomer fluorescence in the cytoplasm at 12\\u2009h, and complete loss of red fluorescence presence of only green fluorescence at 24\\u2009h . A well-established feature of an early event in apoptosis is externalization of phosphatidyl serine (PS) from inner to outer leaflet of plasma membrane. The results obtained with Annexin V binding assay of control and treated cells are represented in in vitro testing, and one which has been already shown to be cytotoxic to PC3, A-549, and H-460 cancer cells, would be cytotoxic to HPV-positive cervical cancer cells, and if so to infer the possible mechanism of action.  Since ancient times, plant-based formulations have been practiced as remedies against diverse ailments . Over thin vitro. Natural compounds can be divided into three groups: those that inhibit cancer cell proliferation directly, those that act by indirect means to inhibit cancer progression, and those that stimulate the immune system [Acorus calamus [Alpinia galangal [Azima tetracantha [Celastrus paniculatus [Cinnamomum zeylanicum [Clerodendron serratum [Cocos nucifera [uminum cyminum [Curcuma longa [Elettaria cardamomum [Embelia ribes  [Foeniculum vulgare [Hygrophila auriculata [Myristica fragrans [Nigella sativa [ Piper longum [Piper nigrum [Plumbago zeylanica [ Psoralea corylifolia [Quercus infectoria [Saussurea lappa [Semecarpus anacardium [Sesamum indicum [Smilax china [Strychnos nux-vomica [Strychnos potatorum [Terminalia chebula [Trachyspermum ammi [Vernonia anthelmintica [Vitis vinifera [Withania somnifera [Zingiber officinale [ The outcome of cytotoxicity assay in this study clearly shows that cRGM is cytotoxic to both the HPV-positive cervical cancer cells and produced the effect in very low doses compared to the other extracts, as has been the case with the prostate  and lunge system . There i calamus , 19; Alpgalangal ; Azima tracantha ; Celastriculatus ; Cinnamoylanicum , 24; Cleserratum ; Cocos nnucifera ; Cuminum cyminum ; Curcumama longa , 28; Elerdamomum ; Embeliaa ribes  , 31; Foe vulgare , 33; Hygriculata ; Myristifragrans ; Nigellaa sativa , 37; Pipr longum ; Piper nr nigrum ; Plumbageylanica , 41; Psoylifolia ; Quercusfectoria ; Saussurea lappa ; Semecaracardium , 46; Ses indicum ; Smilax ax china , 49; Strx-vomica , 51; Strotatorum ; Termina chebula , 54; Tramum ammi ; Vernonilmintica ; Vitis vvinifera ; Withaniomnifera ; Zingibeficinale –61. Thus The idea that an integrated approach is needed to manage cancer using the growing body of knowledge gained through scientific developments  is adequ Phytotherapy, the therapeutic efficacy of which is based on the combined action of a mixture of constituents, offers new treatment opportunities. Because of their biological defense function, plant secondary metabolites act by targeting and disrupting the cell membrane, by binding and inhibiting specific proteins or they adhere to or intercalate into RNA or DNA . Cancer, The focus of the present study has been to find if cRGM would inhibit the proliferation of and induce apoptosis in HPV-positive cervical cancer cells, because these are the two major goals in cancer treatment . This st Cervical cancer takes the lives of more than 250,000 women each year globally , and mos The major limitations of the Indian traditional medicines in presence of one or more toxic heavy metals in the preparations, some intentionally included in view of proprietary prescription in the original formulation (as in RGM), and/or presence of toxic heavy metals to unknown levels in the herbals that are present in the drug. As far as the first is concerned, it is an established fact that the original prescription requires thorough processing of the metal that detoxifies the metal and makes it into a therapeutic substance . In the  The original RGM formulation, if exonerated of heavy metal toxicity, or cRGM, which is free from heavy metals, would be a potential evidence-based complementary and alternative medicine for HPV-positive cervical cancers.'}"
>>>>>>> d2b4e79 (add control)
      ]
     },
     "execution_count": 3,
     "metadata": {},
     "output_type": "execute_result"
    }
   ],
   "source": [
    "ds[0]"
   ]
  },
  {
   "cell_type": "code",
   "execution_count": 4,
   "metadata": {},
   "outputs": [
    {
     "data": {
      "application/vnd.jupyter.widget-view+json": {
<<<<<<< HEAD
       "model_id": "b12ef8d407984a79a2a073fd6cc47209",
=======
       "model_id": "f24f482b7554444492bc7fac2fe77106",
>>>>>>> d2b4e79 (add control)
       "version_major": 2,
       "version_minor": 0
      },
      "text/plain": [
<<<<<<< HEAD
       "Uploading the dataset shards:   0%|          | 0/11 [00:00<?, ?it/s]"
=======
       "Uploading the dataset shards:   0%|          | 0/8 [00:00<?, ?it/s]"
>>>>>>> d2b4e79 (add control)
      ]
     },
     "metadata": {},
     "output_type": "display_data"
    },
    {
     "data": {
      "application/vnd.jupyter.widget-view+json": {
<<<<<<< HEAD
       "model_id": "508f64a5e27f4a9eb335cff4197f8d5d",
=======
       "model_id": "e718e41f46fa464c85dff86b490d33a8",
>>>>>>> d2b4e79 (add control)
       "version_major": 2,
       "version_minor": 0
      },
      "text/plain": [
<<<<<<< HEAD
       "Creating parquet from Arrow format:   0%|          | 0/35 [00:00<?, ?ba/s]"
=======
       "Creating parquet from Arrow format:   0%|          | 0/41 [00:00<?, ?ba/s]"
>>>>>>> d2b4e79 (add control)
      ]
     },
     "metadata": {},
     "output_type": "display_data"
    },
    {
     "data": {
      "application/vnd.jupyter.widget-view+json": {
<<<<<<< HEAD
       "model_id": "4687d673d3b44507a9e6dc8b34217515",
=======
       "model_id": "787493569f17489ebe3963de4d7867f9",
>>>>>>> d2b4e79 (add control)
       "version_major": 2,
       "version_minor": 0
      },
      "text/plain": [
<<<<<<< HEAD
       "Creating parquet from Arrow format:   0%|          | 0/35 [00:00<?, ?ba/s]"
=======
       "Creating parquet from Arrow format:   0%|          | 0/41 [00:00<?, ?ba/s]"
>>>>>>> d2b4e79 (add control)
      ]
     },
     "metadata": {},
     "output_type": "display_data"
    },
    {
     "data": {
      "application/vnd.jupyter.widget-view+json": {
<<<<<<< HEAD
       "model_id": "8f5ab55ac6b3473cab7181914ac476c2",
=======
       "model_id": "8626263541104f0d8294221e986d079e",
>>>>>>> d2b4e79 (add control)
       "version_major": 2,
       "version_minor": 0
      },
      "text/plain": [
<<<<<<< HEAD
       "Creating parquet from Arrow format:   0%|          | 0/35 [00:00<?, ?ba/s]"
=======
       "Creating parquet from Arrow format:   0%|          | 0/41 [00:00<?, ?ba/s]"
>>>>>>> d2b4e79 (add control)
      ]
     },
     "metadata": {},
     "output_type": "display_data"
    },
    {
     "data": {
      "application/vnd.jupyter.widget-view+json": {
<<<<<<< HEAD
       "model_id": "ac84729a6bdf494a96adfec8dec04c53",
=======
       "model_id": "304b7d8fe97f4ce6a377cfd743d19bb2",
>>>>>>> d2b4e79 (add control)
       "version_major": 2,
       "version_minor": 0
      },
      "text/plain": [
<<<<<<< HEAD
       "Creating parquet from Arrow format:   0%|          | 0/35 [00:00<?, ?ba/s]"
=======
       "Creating parquet from Arrow format:   0%|          | 0/41 [00:00<?, ?ba/s]"
>>>>>>> d2b4e79 (add control)
      ]
     },
     "metadata": {},
     "output_type": "display_data"
    },
    {
     "data": {
      "application/vnd.jupyter.widget-view+json": {
<<<<<<< HEAD
       "model_id": "c4027d23a89d4ef5a7ad2f1a0c28da5c",
=======
       "model_id": "52575376ec8b4465b22c262f5d41d07c",
>>>>>>> d2b4e79 (add control)
       "version_major": 2,
       "version_minor": 0
      },
      "text/plain": [
<<<<<<< HEAD
       "Creating parquet from Arrow format:   0%|          | 0/35 [00:00<?, ?ba/s]"
=======
       "Creating parquet from Arrow format:   0%|          | 0/41 [00:00<?, ?ba/s]"
>>>>>>> d2b4e79 (add control)
      ]
     },
     "metadata": {},
     "output_type": "display_data"
    },
    {
     "data": {
      "application/vnd.jupyter.widget-view+json": {
<<<<<<< HEAD
       "model_id": "75c5c02682a944629dd497efc9739e3e",
=======
       "model_id": "223f3c70f6d84ea59ca1ee7f7187058e",
>>>>>>> d2b4e79 (add control)
       "version_major": 2,
       "version_minor": 0
      },
      "text/plain": [
<<<<<<< HEAD
       "Creating parquet from Arrow format:   0%|          | 0/35 [00:00<?, ?ba/s]"
=======
       "Creating parquet from Arrow format:   0%|          | 0/41 [00:00<?, ?ba/s]"
>>>>>>> d2b4e79 (add control)
      ]
     },
     "metadata": {},
     "output_type": "display_data"
    },
    {
     "data": {
      "application/vnd.jupyter.widget-view+json": {
<<<<<<< HEAD
       "model_id": "8e7812f64678498a9bf2be55dec2e945",
=======
       "model_id": "a6fedcdd7df848b08a935d052e2c40b2",
>>>>>>> d2b4e79 (add control)
       "version_major": 2,
       "version_minor": 0
      },
      "text/plain": [
<<<<<<< HEAD
       "Creating parquet from Arrow format:   0%|          | 0/35 [00:00<?, ?ba/s]"
=======
       "Creating parquet from Arrow format:   0%|          | 0/41 [00:00<?, ?ba/s]"
>>>>>>> d2b4e79 (add control)
      ]
     },
     "metadata": {},
     "output_type": "display_data"
    },
    {
     "data": {
      "application/vnd.jupyter.widget-view+json": {
<<<<<<< HEAD
       "model_id": "7ae7627aa69a4a199be8fb38169b94d6",
=======
       "model_id": "05a051b4cd264b59aa9452923cafc6bc",
>>>>>>> d2b4e79 (add control)
       "version_major": 2,
       "version_minor": 0
      },
      "text/plain": [
<<<<<<< HEAD
       "Creating parquet from Arrow format:   0%|          | 0/35 [00:00<?, ?ba/s]"
      ]
     },
     "metadata": {},
     "output_type": "display_data"
    },
    {
     "data": {
      "application/vnd.jupyter.widget-view+json": {
       "model_id": "9d38eb6751c349689a8270766abf4bb8",
       "version_major": 2,
       "version_minor": 0
      },
      "text/plain": [
       "Creating parquet from Arrow format:   0%|          | 0/35 [00:00<?, ?ba/s]"
      ]
     },
     "metadata": {},
     "output_type": "display_data"
    },
    {
     "data": {
      "application/vnd.jupyter.widget-view+json": {
       "model_id": "246b5117769f431b8bbadd9acd2e3b54",
       "version_major": 2,
       "version_minor": 0
      },
      "text/plain": [
       "Creating parquet from Arrow format:   0%|          | 0/35 [00:00<?, ?ba/s]"
      ]
     },
     "metadata": {},
     "output_type": "display_data"
    },
    {
     "data": {
      "application/vnd.jupyter.widget-view+json": {
       "model_id": "39435fa11d7049ee8c4d8f8ef4c79ab1",
       "version_major": 2,
       "version_minor": 0
      },
      "text/plain": [
       "Creating parquet from Arrow format:   0%|          | 0/35 [00:00<?, ?ba/s]"
=======
       "Creating parquet from Arrow format:   0%|          | 0/41 [00:00<?, ?ba/s]"
>>>>>>> d2b4e79 (add control)
      ]
     },
     "metadata": {},
     "output_type": "display_data"
    },
    {
     "data": {
      "text/plain": [
<<<<<<< HEAD
       "CommitInfo(commit_url='https://huggingface.co/datasets/hatakeyama-llm-team/PMC/commit/c30fd13e08fd82873c853619c65273108ae9a5da', commit_message='Upload dataset', commit_description='', oid='c30fd13e08fd82873c853619c65273108ae9a5da', pr_url=None, pr_revision=None, pr_num=None)"
=======
       "CommitInfo(commit_url='https://huggingface.co/datasets/hatakeyama-llm-team/PMC/commit/2541a27b76c0fb311e4aae14541017bd89a07d63', commit_message='Upload dataset', commit_description='', oid='2541a27b76c0fb311e4aae14541017bd89a07d63', pr_url=None, pr_revision=None, pr_num=None)"
>>>>>>> d2b4e79 (add control)
      ]
     },
     "execution_count": 4,
     "metadata": {},
     "output_type": "execute_result"
    }
   ],
   "source": [
<<<<<<< HEAD
    "ds.push_to_hub(\"hatakeyama-llm-team/PMC\",split=\"PMC005xxxxxx_0\")"
=======
    "ds.push_to_hub(\"hatakeyama-llm-team/PMC\",split=\"PMC003xxxxxx_0\")"
>>>>>>> d2b4e79 (add control)
   ]
  },
  {
   "cell_type": "code",
   "execution_count": 22,
   "metadata": {},
   "outputs": [
    {
     "data": {
      "application/vnd.jupyter.widget-view+json": {
       "model_id": "e3383228a57345069edc9855e5fa0181",
       "version_major": 2,
       "version_minor": 0
      },
      "text/plain": [
       "README.md:   0%|          | 0.00/311 [00:00<?, ?B/s]"
      ]
     },
     "metadata": {},
     "output_type": "display_data"
    },
    {
     "data": {
      "application/vnd.jupyter.widget-view+json": {
       "model_id": "57b588523d644649952871fae6013b9d",
       "version_major": 2,
       "version_minor": 0
      },
      "text/plain": [
       "PMC002xxxxxx_0-00000-of-00003.parquet:   0%|          | 0.00/218M [00:00<?, ?B/s]"
      ]
     },
     "metadata": {},
     "output_type": "display_data"
    },
    {
     "data": {
      "application/vnd.jupyter.widget-view+json": {
       "model_id": "968b1ddc873945528e257c19c36625e1",
       "version_major": 2,
       "version_minor": 0
      },
      "text/plain": [
       "PMC002xxxxxx_0-00001-of-00003.parquet:   0%|          | 0.00/218M [00:00<?, ?B/s]"
      ]
     },
     "metadata": {},
     "output_type": "display_data"
    },
    {
     "data": {
      "application/vnd.jupyter.widget-view+json": {
       "model_id": "20758ad0e90645faa35bdfaf19c12579",
       "version_major": 2,
       "version_minor": 0
      },
      "text/plain": [
       "PMC002xxxxxx_0-00002-of-00003.parquet:   0%|          | 0.00/219M [00:00<?, ?B/s]"
      ]
     },
     "metadata": {},
     "output_type": "display_data"
    },
    {
     "data": {
      "application/vnd.jupyter.widget-view+json": {
       "model_id": "1b8a06b08e954983a0be5ade4a6a9b89",
       "version_major": 2,
       "version_minor": 0
      },
      "text/plain": [
       "Generating PMC002xxxxxx_0 split:   0%|          | 0/116737 [00:00<?, ? examples/s]"
      ]
     },
     "metadata": {},
     "output_type": "display_data"
    }
   ],
   "source": [
    "\n",
    "#ds=load_dataset(\"hatakeyama-llm-team/PMC\",split=\"PMC002xxxxxx_0\")"
   ]
  },
  {
   "cell_type": "code",
   "execution_count": null,
   "metadata": {},
   "outputs": [],
   "source": []
  }
 ],
 "metadata": {
  "kernelspec": {
   "display_name": "llama",
   "language": "python",
   "name": "python3"
  },
  "language_info": {
   "codemirror_mode": {
    "name": "ipython",
    "version": 3
   },
   "file_extension": ".py",
   "mimetype": "text/x-python",
   "name": "python",
   "nbconvert_exporter": "python",
   "pygments_lexer": "ipython3",
   "version": "3.10.14"
  }
 },
 "nbformat": 4,
 "nbformat_minor": 2
}
