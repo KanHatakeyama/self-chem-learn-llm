{
 "cells": [
  {
   "cell_type": "code",
   "execution_count": 1,
   "metadata": {},
   "outputs": [
    {
     "name": "stderr",
     "output_type": "stream",
     "text": [
      "/home/hatakeyama/miniconda3/envs/llama/lib/python3.10/site-packages/tqdm/auto.py:21: TqdmWarning: IProgress not found. Please update jupyter and ipywidgets. See https://ipywidgets.readthedocs.io/en/stable/user_install.html\n",
      "  from .autonotebook import tqdm as notebook_tqdm\n"
     ]
    },
    {
     "name": "stderr",
     "output_type": "stream",
     "text": [
      "Loading checkpoint shards: 100%|██████████| 30/30 [00:23<00:00,  1.30it/s]\n"
     ]
    }
   ],
   "source": [
    "import transformers\n",
    "import torch\n",
    "import time\n",
    "\n",
    "model_id = \"meta-llama/Meta-Llama-3.1-8B-Instruct\"\n",
    "model_id = \"meta-llama/Meta-Llama-3.1-70B-Instruct\"\n",
    "\n",
    "model = transformers.AutoModelForCausalLM.from_pretrained(model_id,\n",
    "torch_dtype=torch.bfloat16,  device_map=\"auto\")\n",
    "\n",
    "\n",
    "\n",
    "tokenizer=transformers.AutoTokenizer.from_pretrained(model_id)\n",
    "pipeline = transformers.pipeline(\n",
    "    \"text-generation\", model=model, \n",
    "    tokenizer=tokenizer\n",
    ")\n"
   ]
  },
  {
   "cell_type": "code",
   "execution_count": 20,
   "metadata": {},
   "outputs": [
    {
     "name": "stderr",
     "output_type": "stream",
     "text": [
      "Setting `pad_token_id` to `eos_token_id`:128001 for open-end generation.\n"
     ]
    },
    {
     "data": {
      "text/plain": [
       "'To predict the melting point of Fluorescein, we can use the following steps:\\n\\n1. Determine the molecular weight of Fluorescein.\\n2. Calculate the number of hydrogen bond donors and acceptors in the molecule.\\n3. Use the melting point prediction equation based on the molecular weight and hydrogen bonding properties.\\n\\n#Output\\nThe predicted melting point of Fluorescein is 314.15 K (41°C or 106°F).\\n\\n#Explanation\\nThe molecular weight of Fluorescein is 332.31 g/mol. The molecule has 6 hydrogen bond donors and 8 hydrogen bond acceptors. Using the melting point prediction equation, we can calculate the melting point as follows:\\n\\nMelting point (K) = 298.15 + (0.01 x molecular weight) + (0.05 x number of hydrogen bond donors) + (0.05 x number of hydrogen bond acceptors)\\n\\nMelting point (K) = 298.15 + (0.01 x 332.31) + (0.05 x 6) + (0.05 x 8)\\nMelting point (K) = 298.15 + 3.3231 + 0.3 + 0.4\\nMelting point (K) = 314.15\\n\\nTherefore, the predicted melting point of Fluorescein is 314.15 K (41°C or 106°F).'"
      ]
     },
     "execution_count": 20,
     "metadata": {},
     "output_type": "execute_result"
    }
   ],
   "source": [
    "q=\"\"\"Predict the melting point of the following compound. \n",
    "#Restriction: Output must contain \"#Reason\" section which explains the step-by-step quantitative reasoning behind the prediction. Output must contain \"#Output\" section which contains the final prediction value.\n",
    "#Name: Fluorescein\n",
    "#SMILES: c1ccc2c(c1)C(=O)OC23c4ccc(cc4Oc5c3ccc(c5)O)O\n",
    "\n",
    "\"\"\"\n",
    "chat = [\n",
    "    {\"role\": \"user\", \"content\": q},\n",
    "]\n",
    "\n",
    "\n",
    "\n",
    "prompt=tokenizer.apply_chat_template(chat,tokenize=False)\n",
    "assist_prefix=\"assistant\\n\\n#Reason\\n\"\n",
    "prompt+=assist_prefix\n",
    "res=pipeline(prompt,max_new_tokens=1000)[0][\"generated_text\"][len(prompt):]\n",
    "res"
   ]
  },
  {
   "cell_type": "code",
   "execution_count": null,
   "metadata": {},
   "outputs": [],
   "source": []
  }
 ],
 "metadata": {
  "kernelspec": {
   "display_name": "llama",
   "language": "python",
   "name": "python3"
  },
  "language_info": {
   "codemirror_mode": {
    "name": "ipython",
    "version": 3
   },
   "file_extension": ".py",
   "mimetype": "text/x-python",
   "name": "python",
   "nbconvert_exporter": "python",
   "pygments_lexer": "ipython3",
   "version": "3.10.14"
  }
 },
 "nbformat": 4,
 "nbformat_minor": 2
}
