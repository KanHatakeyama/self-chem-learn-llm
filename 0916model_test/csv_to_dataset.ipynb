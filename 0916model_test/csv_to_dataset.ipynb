{
 "cells": [
  {
   "cell_type": "code",
   "execution_count": 1,
   "metadata": {},
   "outputs": [],
   "source": [
    "import pandas as pd"
   ]
  },
  {
   "cell_type": "code",
   "execution_count": 2,
   "metadata": {},
   "outputs": [
    {
     "data": {
      "text/plain": [
       "{'absolute molar magnetic susceptibility': '[10^-6 cm3/mol]',\n",
       " 'absolute standard enthalpy of formation': '[kJ/mol]',\n",
       " 'amorphous density': '[g/cm3]',\n",
       " 'amorphous thermal conductivity': '[W/m/K]',\n",
       " 'band gap': '[eV]',\n",
       " 'boiling temperature': '[oC]',\n",
       " 'converted oxidation/reduction potential (V vs SHE)': '[V vs SHE]',\n",
       " 'crystalline density': '[g/cm3]',\n",
       " 'crystalline thermal conductivity': '[W/m/K]',\n",
       " 'decomposition temperature': '[oC]',\n",
       " 'density': '[g/cm3]',\n",
       " 'dipole moment': '[debye]',\n",
       " 'electric conductivity': '[S/cm]',\n",
       " 'flash temperature': '[oC]',\n",
       " 'glass expansivity': '[10^-4 cm3/g/K]',\n",
       " 'glass transition temperature': '[oC]',\n",
       " 'heat capacity': '[J/g/K]',\n",
       " 'ionic conductivity': '[S/cm]',\n",
       " 'ionization energy': '[eV]',\n",
       " 'liquid expansivity': '[10^-4 cm3/g/K]',\n",
       " 'liquid heat capacity': '[J/g/K]',\n",
       " 'melting enthalpy': '[kJJ/mol]',\n",
       " 'melting temperature': '[oC]',\n",
       " 'molar heat capacity': '[J/mol/K]',\n",
       " 'molar volume': '[cm3/mol]',\n",
       " 'oxidation potential (V vs Ag/Ag+)': '[V vs Ag/Ag+]',\n",
       " 'oxidation potential (V vs Fc/Fc+)': '[V vs Fc/Fc+]',\n",
       " 'oxidation potential (V vs SCE)': '[V vs SCE]',\n",
       " 'oxidation/reduction potential (V vs Li/Li+)': '[V vs Li/Li+]',\n",
       " 'oxidation/reduction potential (V vs SHE)': '[V vs SHE]',\n",
       " 'partition coefficient': '[-]',\n",
       " 'permittivity': '[-]',\n",
       " 'pKa': '[-]',\n",
       " 'polarizability': '[Å3]',\n",
       " 'reduction potential (V vs Ag/Ag+)': '[V vs Ag/Ag+]',\n",
       " 'reduction potential (V vs SCE)': '[V vs SCE]',\n",
       " 'reduction potential (V vs SHE)': '[V vs SHE]',\n",
       " 'refractive index': '[-]',\n",
       " 'solid heat capacity': '[J/g/K]',\n",
       " 'solubility parameter': '[J^(1/2)/cm^(3/2)]',\n",
       " 'surface tension': '[mN/m]',\n",
       " 'thermal conductivity': '[W/m/K]',\n",
       " 'time': '[minutes]',\n",
       " 'UV cut-off': '[nm]',\n",
       " 'vapor pressure': '[kPa]',\n",
       " 'viscosity': '[mPas]'}"
      ]
     },
     "execution_count": 2,
     "metadata": {},
     "output_type": "execute_result"
    }
   ],
   "source": [
    "unit_text=\"\"\"\n",
    "absolute molar magnetic susceptibility\t[10^-6 cm3/mol]\n",
    "absolute standard enthalpy of formation\t[kJ/mol]\n",
    "amorphous density\t[g/cm3]\n",
    "amorphous thermal conductivity\t[W/m/K]\n",
    "band gap\t[eV]\n",
    "boiling temperature\t[oC]\n",
    "converted oxidation/reduction potential (V vs SHE)\t[V vs SHE]\n",
    "crystalline density\t[g/cm3]\n",
    "crystalline thermal conductivity\t[W/m/K]\n",
    "decomposition temperature\t[oC]\n",
    "density\t[g/cm3]\n",
    "dipole moment\t[debye]\n",
    "electric conductivity\t[S/cm]\n",
    "flash temperature\t[oC]\n",
    "glass expansivity\t[10^-4 cm3/g/K]\n",
    "glass transition temperature\t[oC]\n",
    "heat capacity\t[J/g/K]\n",
    "ionic conductivity\t[S/cm]\n",
    "ionization energy\t[eV]\n",
    "liquid expansivity\t[10^-4 cm3/g/K]\n",
    "liquid heat capacity\t[J/g/K]\n",
    "melting enthalpy\t[kJJ/mol]\n",
    "melting temperature\t[oC]\n",
    "molar heat capacity\t[J/mol/K]\n",
    "molar volume\t[cm3/mol]\n",
    "oxidation potential (V vs Ag/Ag+)\t[V vs Ag/Ag+]\n",
    "oxidation potential (V vs Fc/Fc+)\t[V vs Fc/Fc+]\n",
    "oxidation potential (V vs SCE)\t[V vs SCE]\n",
    "oxidation/reduction potential (V vs Li/Li+)\t[V vs Li/Li+]\n",
    "oxidation/reduction potential (V vs SHE)\t[V vs SHE]\n",
    "partition coefficient\t[-]\n",
    "permittivity\t[-]\n",
    "pKa\t[-]\n",
    "polarizability\t[Å3]\n",
    "reduction potential (V vs Ag/Ag+)\t[V vs Ag/Ag+]\n",
    "reduction potential (V vs SCE)\t[V vs SCE]\n",
    "reduction potential (V vs SHE)\t[V vs SHE]\n",
    "refractive index\t[-]\n",
    "solid heat capacity\t[J/g/K]\n",
    "solubility parameter\t[J^(1/2)/cm^(3/2)]\n",
    "surface tension\t[mN/m]\n",
    "thermal conductivity\t[W/m/K]\n",
    "time\t[minutes]\n",
    "UV cut-off\t[nm]\n",
    "vapor pressure\t[kPa]\n",
    "viscosity\t[mPas]\n",
    "\"\"\"\n",
    "\n",
    "unit_dict={}\n",
    "for line in unit_text.split(\"\\n\"):\n",
    "    if len(line)<4:\n",
    "        continue\n",
    "    k,v=line.split(\"\t\")\n",
    "    unit_dict[k]=v\n",
    "\n",
    "unit_dict"
   ]
  },
  {
   "cell_type": "code",
   "execution_count": 12,
   "metadata": {},
   "outputs": [],
   "source": [
    "\n",
    "\n",
    "noise_columns=[\n",
    "'Unnamed: 13',\n",
    "'Unnamed: 16',\n",
    "'Unnamed: 17',\n",
    "'Unnamed: 18',\n",
    "'Unnamed: 21',\n",
    "'Notes',\n",
    "'Compounds without SMILES were not used for machine learning',\n",
    "\"CASNo\",\n",
    "'ID',\n",
    "]\n",
    "\n",
    "key_columns=[\"SMILES\",\"CompName\"]\n",
    "\n",
    "\n",
    "\n",
    "parsed_records=[]\n",
    "for csv_path in [\"wiki/wiki1.csv\",\"wiki/wiki2.csv\"]:\n",
    "    df=pd.read_csv(csv_path)\n",
    "    records=df.to_dict(orient=\"records\")\n",
    "\n",
    "    for compound_data in records:\n",
    "        if \"CompName\" not in compound_data:\n",
    "            compound_data[\"CompName\"]=\"unknown\"\n",
    "        for k,v in compound_data.items():\n",
    "            if k in noise_columns:\n",
    "                continue\n",
    "            if k in key_columns:\n",
    "                continue\n",
    "            n_dict={\n",
    "                \"CompName\":compound_data[\"CompName\"],\n",
    "                \"SMILES\":compound_data[\"SMILES\"],\n",
    "            }\n",
    "            if v==v:\n",
    "                if k.lower() in unit_dict:\n",
    "                    n_dict[\"Property\"]=k\n",
    "                    try:\n",
    "                        n_dict[\"Value\"]=float(v)\n",
    "                    except:\n",
    "                        continue\n",
    "                    n_dict[\"unit\"]=unit_dict[k.lower()]\n",
    "                    n_dict[\"Source\"]=\"Wikipedia/Wikidata\"\n",
    "                    parsed_records.append(n_dict)"
   ]
  },
  {
   "cell_type": "code",
   "execution_count": 13,
   "metadata": {},
   "outputs": [
    {
     "data": {
      "text/plain": [
       "{'ID': 1283,\n",
       " 'SMILES': 'CCC(C)N(C)C',\n",
       " 'Refractive index': nan,\n",
       " 'pKa': 10.4,\n",
       " 'Density': nan,\n",
       " 'Melting enthalpy': nan,\n",
       " 'Melting temperature': nan,\n",
       " 'Boiling temperature': nan,\n",
       " 'Decomposition temperature': nan,\n",
       " 'Vapor pressure': nan,\n",
       " 'Flash temperature': nan,\n",
       " 'Ionization Energy': nan,\n",
       " 'Absolute standard enthalpy of formation': nan,\n",
       " 'Unnamed: 13': nan,\n",
       " 'Notes': nan,\n",
       " 'wikidataID': 'Q24004478',\n",
       " 'Unnamed: 16': nan,\n",
       " 'Unnamed: 17': nan,\n",
       " 'Unnamed: 18': nan,\n",
       " 'Compounds without SMILES were not used for machine learning': nan,\n",
       " 'CompName': 'unknown'}"
      ]
     },
     "execution_count": 13,
     "metadata": {},
     "output_type": "execute_result"
    }
   ],
   "source": [
    "compound_data"
   ]
  },
  {
   "cell_type": "code",
   "execution_count": 14,
   "metadata": {},
   "outputs": [
    {
     "data": {
      "text/plain": [
       "7241"
      ]
     },
     "execution_count": 14,
     "metadata": {},
     "output_type": "execute_result"
    }
   ],
   "source": [
    "len(parsed_records)"
   ]
  },
  {
   "cell_type": "code",
   "execution_count": 15,
   "metadata": {},
   "outputs": [
    {
     "data": {
      "text/html": [
       "<div>\n",
       "<style scoped>\n",
       "    .dataframe tbody tr th:only-of-type {\n",
       "        vertical-align: middle;\n",
       "    }\n",
       "\n",
       "    .dataframe tbody tr th {\n",
       "        vertical-align: top;\n",
       "    }\n",
       "\n",
       "    .dataframe thead th {\n",
       "        text-align: right;\n",
       "    }\n",
       "</style>\n",
       "<table border=\"1\" class=\"dataframe\">\n",
       "  <thead>\n",
       "    <tr style=\"text-align: right;\">\n",
       "      <th></th>\n",
       "      <th>CompName</th>\n",
       "      <th>SMILES</th>\n",
       "      <th>Property</th>\n",
       "      <th>Value</th>\n",
       "      <th>unit</th>\n",
       "      <th>Source</th>\n",
       "    </tr>\n",
       "  </thead>\n",
       "  <tbody>\n",
       "    <tr>\n",
       "      <th>0</th>\n",
       "      <td>Ammonia</td>\n",
       "      <td>N</td>\n",
       "      <td>Viscosity</td>\n",
       "      <td>0.2760</td>\n",
       "      <td>[mPas]</td>\n",
       "      <td>Wikipedia/Wikidata</td>\n",
       "    </tr>\n",
       "    <tr>\n",
       "      <th>1</th>\n",
       "      <td>Ammonia</td>\n",
       "      <td>N</td>\n",
       "      <td>Vapor pressure</td>\n",
       "      <td>857.3000</td>\n",
       "      <td>[kPa]</td>\n",
       "      <td>Wikipedia/Wikidata</td>\n",
       "    </tr>\n",
       "    <tr>\n",
       "      <th>2</th>\n",
       "      <td>Ammonia</td>\n",
       "      <td>N</td>\n",
       "      <td>Refractive index</td>\n",
       "      <td>1.3327</td>\n",
       "      <td>[-]</td>\n",
       "      <td>Wikipedia/Wikidata</td>\n",
       "    </tr>\n",
       "    <tr>\n",
       "      <th>3</th>\n",
       "      <td>Ammonia</td>\n",
       "      <td>N</td>\n",
       "      <td>Melting temperature</td>\n",
       "      <td>-77.7300</td>\n",
       "      <td>[oC]</td>\n",
       "      <td>Wikipedia/Wikidata</td>\n",
       "    </tr>\n",
       "    <tr>\n",
       "      <th>4</th>\n",
       "      <td>Ammonia</td>\n",
       "      <td>N</td>\n",
       "      <td>Absolute molar magnetic susceptibility</td>\n",
       "      <td>18.0000</td>\n",
       "      <td>[10^-6 cm3/mol]</td>\n",
       "      <td>Wikipedia/Wikidata</td>\n",
       "    </tr>\n",
       "    <tr>\n",
       "      <th>...</th>\n",
       "      <td>...</td>\n",
       "      <td>...</td>\n",
       "      <td>...</td>\n",
       "      <td>...</td>\n",
       "      <td>...</td>\n",
       "      <td>...</td>\n",
       "    </tr>\n",
       "    <tr>\n",
       "      <th>7236</th>\n",
       "      <td>unknown</td>\n",
       "      <td>F[Zr-2](F)(F)(F)(F)F.[K+].[K+]</td>\n",
       "      <td>Density</td>\n",
       "      <td>3.4800</td>\n",
       "      <td>[g/cm3]</td>\n",
       "      <td>Wikipedia/Wikidata</td>\n",
       "    </tr>\n",
       "    <tr>\n",
       "      <th>7237</th>\n",
       "      <td>unknown</td>\n",
       "      <td>C1(=NC(=NC(=N1)N)N)N</td>\n",
       "      <td>Density</td>\n",
       "      <td>1.5740</td>\n",
       "      <td>[g/cm3]</td>\n",
       "      <td>Wikipedia/Wikidata</td>\n",
       "    </tr>\n",
       "    <tr>\n",
       "      <th>7238</th>\n",
       "      <td>unknown</td>\n",
       "      <td>C1(C(C(C(C(C1O)O)O)O)O)O</td>\n",
       "      <td>Density</td>\n",
       "      <td>1.7520</td>\n",
       "      <td>[g/cm3]</td>\n",
       "      <td>Wikipedia/Wikidata</td>\n",
       "    </tr>\n",
       "    <tr>\n",
       "      <th>7239</th>\n",
       "      <td>unknown</td>\n",
       "      <td>[Li+].[O-][Nb](=O)=O</td>\n",
       "      <td>Density</td>\n",
       "      <td>4.6440</td>\n",
       "      <td>[g/cm3]</td>\n",
       "      <td>Wikipedia/Wikidata</td>\n",
       "    </tr>\n",
       "    <tr>\n",
       "      <th>7240</th>\n",
       "      <td>unknown</td>\n",
       "      <td>B#[Cr]</td>\n",
       "      <td>Density</td>\n",
       "      <td>6.1200</td>\n",
       "      <td>[g/cm3]</td>\n",
       "      <td>Wikipedia/Wikidata</td>\n",
       "    </tr>\n",
       "  </tbody>\n",
       "</table>\n",
       "<p>7241 rows × 6 columns</p>\n",
       "</div>"
      ],
      "text/plain": [
       "     CompName                          SMILES  \\\n",
       "0     Ammonia                               N   \n",
       "1     Ammonia                               N   \n",
       "2     Ammonia                               N   \n",
       "3     Ammonia                               N   \n",
       "4     Ammonia                               N   \n",
       "...       ...                             ...   \n",
       "7236  unknown  F[Zr-2](F)(F)(F)(F)F.[K+].[K+]   \n",
       "7237  unknown            C1(=NC(=NC(=N1)N)N)N   \n",
       "7238  unknown        C1(C(C(C(C(C1O)O)O)O)O)O   \n",
       "7239  unknown            [Li+].[O-][Nb](=O)=O   \n",
       "7240  unknown                          B#[Cr]   \n",
       "\n",
       "                                    Property     Value             unit  \\\n",
       "0                                  Viscosity    0.2760           [mPas]   \n",
       "1                             Vapor pressure  857.3000            [kPa]   \n",
       "2                           Refractive index    1.3327              [-]   \n",
       "3                        Melting temperature  -77.7300             [oC]   \n",
       "4     Absolute molar magnetic susceptibility   18.0000  [10^-6 cm3/mol]   \n",
       "...                                      ...       ...              ...   \n",
       "7236                                 Density    3.4800          [g/cm3]   \n",
       "7237                                 Density    1.5740          [g/cm3]   \n",
       "7238                                 Density    1.7520          [g/cm3]   \n",
       "7239                                 Density    4.6440          [g/cm3]   \n",
       "7240                                 Density    6.1200          [g/cm3]   \n",
       "\n",
       "                  Source  \n",
       "0     Wikipedia/Wikidata  \n",
       "1     Wikipedia/Wikidata  \n",
       "2     Wikipedia/Wikidata  \n",
       "3     Wikipedia/Wikidata  \n",
       "4     Wikipedia/Wikidata  \n",
       "...                  ...  \n",
       "7236  Wikipedia/Wikidata  \n",
       "7237  Wikipedia/Wikidata  \n",
       "7238  Wikipedia/Wikidata  \n",
       "7239  Wikipedia/Wikidata  \n",
       "7240  Wikipedia/Wikidata  \n",
       "\n",
       "[7241 rows x 6 columns]"
      ]
     },
     "execution_count": 15,
     "metadata": {},
     "output_type": "execute_result"
    }
   ],
   "source": [
    "df_2=pd.DataFrame(parsed_records)\n",
    "df_2"
   ]
  },
  {
   "cell_type": "code",
   "execution_count": 16,
   "metadata": {},
   "outputs": [
    {
     "data": {
      "text/plain": [
       "Dataset({\n",
       "    features: ['CompName', 'SMILES', 'Property', 'Value', 'unit', 'Source'],\n",
       "    num_rows: 7241\n",
       "})"
      ]
     },
     "execution_count": 16,
     "metadata": {},
     "output_type": "execute_result"
    }
   ],
   "source": [
    "import datasets\n",
    "dataset=datasets.Dataset.from_pandas(df_2)#.astype(str)\n",
    "dataset"
   ]
  },
  {
   "cell_type": "code",
   "execution_count": 17,
   "metadata": {},
   "outputs": [
    {
     "data": {
      "application/vnd.jupyter.widget-view+json": {
       "model_id": "7603c0b22c1f45fb8d8006762f97e9ca",
       "version_major": 2,
       "version_minor": 0
      },
      "text/plain": [
       "Uploading the dataset shards:   0%|          | 0/1 [00:00<?, ?it/s]"
      ]
     },
     "metadata": {},
     "output_type": "display_data"
    },
    {
     "data": {
      "application/vnd.jupyter.widget-view+json": {
       "model_id": "699b993cb1054d7186a9ef747d11c72d",
       "version_major": 2,
       "version_minor": 0
      },
      "text/plain": [
       "Creating parquet from Arrow format:   0%|          | 0/8 [00:00<?, ?ba/s]"
      ]
     },
     "metadata": {},
     "output_type": "display_data"
    },
    {
     "data": {
      "text/plain": [
       "CommitInfo(commit_url='https://huggingface.co/datasets/kanhatakeyama/material-properties/commit/511329b355c38d9721ae88d937c788aec55630b3', commit_message='Upload dataset', commit_description='', oid='511329b355c38d9721ae88d937c788aec55630b3', pr_url=None, pr_revision=None, pr_num=None)"
      ]
     },
     "execution_count": 17,
     "metadata": {},
     "output_type": "execute_result"
    }
   ],
   "source": [
    "dataset.push_to_hub(\"kanhatakeyama/material-properties\")"
   ]
  },
  {
   "cell_type": "code",
   "execution_count": null,
   "metadata": {},
   "outputs": [],
   "source": []
  }
 ],
 "metadata": {
  "kernelspec": {
   "display_name": "llama",
   "language": "python",
   "name": "python3"
  },
  "language_info": {
   "codemirror_mode": {
    "name": "ipython",
    "version": 3
   },
   "file_extension": ".py",
   "mimetype": "text/x-python",
   "name": "python",
   "nbconvert_exporter": "python",
   "pygments_lexer": "ipython3",
   "version": "3.10.14"
  }
 },
 "nbformat": 4,
 "nbformat_minor": 2
}
