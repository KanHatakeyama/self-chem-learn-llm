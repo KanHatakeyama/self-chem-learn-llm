{
 "cells": [
  {
   "cell_type": "code",
   "execution_count": 6,
   "metadata": {},
   "outputs": [],
   "source": [
    "\n",
    "import transformers"
   ]
  },
  {
   "cell_type": "code",
   "execution_count": 1,
   "metadata": {},
   "outputs": [
    {
     "name": "stdout",
     "output_type": "stream",
     "text": [
      "INFO 09-17 17:31:41 config.py:904] Defaulting to use mp for distributed inference\n",
      "INFO 09-17 17:31:41 llm_engine.py:223] Initializing an LLM engine (v0.6.1.post2) with config: model='meta-llama/Meta-Llama-3.1-70B-Instruct', speculative_config=None, tokenizer='meta-llama/Meta-Llama-3.1-70B-Instruct', skip_tokenizer_init=False, tokenizer_mode=auto, revision=None, override_neuron_config=None, rope_scaling=None, rope_theta=None, tokenizer_revision=None, trust_remote_code=True, dtype=torch.bfloat16, max_seq_len=2000, download_dir=None, load_format=LoadFormat.AUTO, tensor_parallel_size=8, pipeline_parallel_size=1, disable_custom_all_reduce=False, quantization=None, enforce_eager=False, kv_cache_dtype=auto, quantization_param_path=None, device_config=cuda, decoding_config=DecodingConfig(guided_decoding_backend='outlines'), observability_config=ObservabilityConfig(otlp_traces_endpoint=None, collect_model_forward_time=False, collect_model_execute_time=False), seed=0, served_model_name=meta-llama/Meta-Llama-3.1-70B-Instruct, use_v2_block_manager=False, num_scheduler_steps=1, enable_prefix_caching=False, use_async_output_proc=True)\n",
      "WARNING 09-17 17:31:42 multiproc_gpu_executor.py:56] Reducing Torch parallelism from 32 threads to 1 to avoid unnecessary CPU contention. Set OMP_NUM_THREADS in the external environment to tune this value as needed.\n",
      "INFO 09-17 17:31:42 custom_cache_manager.py:17] Setting Triton cache manager to: vllm.triton_utils.custom_cache_manager:CustomCacheManager\n",
      "\u001b[1;36m(VllmWorkerProcess pid=543386)\u001b[0;0m INFO 09-17 17:31:42 multiproc_worker_utils.py:215] Worker ready; awaiting tasks\n",
      "\u001b[1;36m(VllmWorkerProcess pid=543387)\u001b[0;0m \u001b[1;36m(VllmWorkerProcess pid=543388)\u001b[0;0m INFO 09-17 17:31:42 multiproc_worker_utils.py:215] Worker ready; awaiting tasks\n",
      "INFO 09-17 17:31:42 multiproc_worker_utils.py:215] Worker ready; awaiting tasks\n",
      "\u001b[1;36m(VllmWorkerProcess pid=543390)\u001b[0;0m \u001b[1;36m(VllmWorkerProcess pid=543391)\u001b[0;0m INFO 09-17 17:31:42 multiproc_worker_utils.py:215] Worker ready; awaiting tasks\n",
      "INFO 09-17 17:31:42 multiproc_worker_utils.py:215] Worker ready; awaiting tasks\n",
      "\u001b[1;36m(VllmWorkerProcess pid=543385)\u001b[0;0m INFO 09-17 17:31:43 multiproc_worker_utils.py:215] Worker ready; awaiting tasks\n",
      "\u001b[1;36m(VllmWorkerProcess pid=543389)\u001b[0;0m INFO 09-17 17:31:42 multiproc_worker_utils.py:215] Worker ready; awaiting tasks\n",
      "INFO 09-17 17:31:48 utils.py:981] Found nccl from library libnccl.so.2\n",
      "INFO 09-17 17:31:48 pynccl.py:63] vLLM is using nccl==2.20.5\n",
      "\u001b[1;36m(VllmWorkerProcess pid=543386)\u001b[0;0m \u001b[1;36m(VllmWorkerProcess pid=543385)\u001b[0;0m \u001b[1;36m(VllmWorkerProcess pid=543390)\u001b[0;0m \u001b[1;36m(VllmWorkerProcess pid=543387)\u001b[0;0m \u001b[1;36m(VllmWorkerProcess pid=543388)\u001b[0;0m \u001b[1;36m(VllmWorkerProcess pid=543389)\u001b[0;0m INFO 09-17 17:31:48 utils.py:981] Found nccl from library libnccl.so.2\n",
      "INFO 09-17 17:31:48 utils.py:981] Found nccl from library libnccl.so.2\n",
      "INFO 09-17 17:31:48 utils.py:981] Found nccl from library libnccl.so.2\n",
      "\u001b[1;36m(VllmWorkerProcess pid=543391)\u001b[0;0m INFO 09-17 17:31:48 utils.py:981] Found nccl from library libnccl.so.2\n",
      "INFO 09-17 17:31:48 utils.py:981] Found nccl from library libnccl.so.2\n",
      "INFO 09-17 17:31:48 utils.py:981] Found nccl from library libnccl.so.2\n",
      "INFO 09-17 17:31:48 utils.py:981] Found nccl from library libnccl.so.2\n",
      "\u001b[1;36m(VllmWorkerProcess pid=543386)\u001b[0;0m \u001b[1;36m(VllmWorkerProcess pid=543387)\u001b[0;0m \u001b[1;36m(VllmWorkerProcess pid=543385)\u001b[0;0m \u001b[1;36m(VllmWorkerProcess pid=543390)\u001b[0;0m INFO 09-17 17:31:48 pynccl.py:63] vLLM is using nccl==2.20.5\n",
      "INFO 09-17 17:31:48 pynccl.py:63] vLLM is using nccl==2.20.5\n",
      "INFO 09-17 17:31:48 pynccl.py:63] vLLM is using nccl==2.20.5\n",
      "\u001b[1;36m(VllmWorkerProcess pid=543388)\u001b[0;0m INFO 09-17 17:31:48 pynccl.py:63] vLLM is using nccl==2.20.5\n",
      "\u001b[1;36m(VllmWorkerProcess pid=543391)\u001b[0;0m \u001b[1;36m(VllmWorkerProcess pid=543389)\u001b[0;0m INFO 09-17 17:31:48 pynccl.py:63] vLLM is using nccl==2.20.5\n",
      "INFO 09-17 17:31:48 pynccl.py:63] vLLM is using nccl==2.20.5\n",
      "INFO 09-17 17:31:48 pynccl.py:63] vLLM is using nccl==2.20.5\n",
      "INFO 09-17 17:31:51 custom_all_reduce_utils.py:242] reading GPU P2P access cache from /home/hatakeyama/.cache/vllm/gpu_p2p_access_cache_for_0,1,2,3,4,5,6,7.json\n",
      "\u001b[1;36m(VllmWorkerProcess pid=543388)\u001b[0;0m \u001b[1;36m(VllmWorkerProcess pid=543391)\u001b[0;0m \u001b[1;36m(VllmWorkerProcess pid=543385)\u001b[0;0m \u001b[1;36m(VllmWorkerProcess pid=543387)\u001b[0;0m \u001b[1;36m(VllmWorkerProcess pid=543390)\u001b[0;0m \u001b[1;36m(VllmWorkerProcess pid=543386)\u001b[0;0m INFO 09-17 17:31:51 custom_all_reduce_utils.py:242] reading GPU P2P access cache from /home/hatakeyama/.cache/vllm/gpu_p2p_access_cache_for_0,1,2,3,4,5,6,7.json\n",
      "INFO 09-17 17:31:51 custom_all_reduce_utils.py:242] reading GPU P2P access cache from /home/hatakeyama/.cache/vllm/gpu_p2p_access_cache_for_0,1,2,3,4,5,6,7.json\n",
      "INFO 09-17 17:31:51 custom_all_reduce_utils.py:242] reading GPU P2P access cache from /home/hatakeyama/.cache/vllm/gpu_p2p_access_cache_for_0,1,2,3,4,5,6,7.json\n",
      "INFO 09-17 17:31:51 custom_all_reduce_utils.py:242] reading GPU P2P access cache from /home/hatakeyama/.cache/vllm/gpu_p2p_access_cache_for_0,1,2,3,4,5,6,7.json\n",
      "INFO 09-17 17:31:51 custom_all_reduce_utils.py:242] reading GPU P2P access cache from /home/hatakeyama/.cache/vllm/gpu_p2p_access_cache_for_0,1,2,3,4,5,6,7.json\n",
      "INFO 09-17 17:31:51 custom_all_reduce_utils.py:242] reading GPU P2P access cache from /home/hatakeyama/.cache/vllm/gpu_p2p_access_cache_for_0,1,2,3,4,5,6,7.json\n",
      "\u001b[1;36m(VllmWorkerProcess pid=543389)\u001b[0;0m INFO 09-17 17:31:51 custom_all_reduce_utils.py:242] reading GPU P2P access cache from /home/hatakeyama/.cache/vllm/gpu_p2p_access_cache_for_0,1,2,3,4,5,6,7.json\n",
      "INFO 09-17 17:31:51 shm_broadcast.py:235] vLLM message queue communication handle: Handle(connect_ip='127.0.0.1', local_reader_ranks=[1, 2, 3, 4, 5, 6, 7], buffer=<vllm.distributed.device_communicators.shm_broadcast.ShmRingBuffer object at 0x7fb4f5a243a0>, local_subscribe_port=52173, remote_subscribe_port=None)\n",
      "INFO 09-17 17:31:51 model_runner.py:997] Starting to load model meta-llama/Meta-Llama-3.1-70B-Instruct...\n",
      "\u001b[1;36m(VllmWorkerProcess pid=543385)\u001b[0;0m \u001b[1;36m(VllmWorkerProcess pid=543386)\u001b[0;0m \u001b[1;36m(VllmWorkerProcess pid=543391)\u001b[0;0m \u001b[1;36m(VllmWorkerProcess pid=543387)\u001b[0;0m \u001b[1;36m(VllmWorkerProcess pid=543390)\u001b[0;0m INFO 09-17 17:31:51 model_runner.py:997] Starting to load model meta-llama/Meta-Llama-3.1-70B-Instruct...\n",
      "INFO 09-17 17:31:51 model_runner.py:997] Starting to load model meta-llama/Meta-Llama-3.1-70B-Instruct...\n",
      "INFO 09-17 17:31:51 model_runner.py:997] Starting to load model meta-llama/Meta-Llama-3.1-70B-Instruct...\n",
      "INFO 09-17 17:31:51 model_runner.py:997] Starting to load model meta-llama/Meta-Llama-3.1-70B-Instruct...\n",
      "\u001b[1;36m(VllmWorkerProcess pid=543389)\u001b[0;0m INFO 09-17 17:31:51 model_runner.py:997] Starting to load model meta-llama/Meta-Llama-3.1-70B-Instruct...\n",
      "\u001b[1;36m(VllmWorkerProcess pid=543388)\u001b[0;0m INFO 09-17 17:31:51 model_runner.py:997] Starting to load model meta-llama/Meta-Llama-3.1-70B-Instruct...\n",
      "INFO 09-17 17:31:51 model_runner.py:997] Starting to load model meta-llama/Meta-Llama-3.1-70B-Instruct...\n",
      "INFO 09-17 17:31:52 weight_utils.py:242] Using model weights format ['*.safetensors']\n",
      "\u001b[1;36m(VllmWorkerProcess pid=543391)\u001b[0;0m \u001b[1;36m(VllmWorkerProcess pid=543388)\u001b[0;0m INFO 09-17 17:31:52 weight_utils.py:242] Using model weights format ['*.safetensors']\n",
      "\u001b[1;36m(VllmWorkerProcess pid=543386)\u001b[0;0m INFO 09-17 17:31:52 weight_utils.py:242] Using model weights format ['*.safetensors']\n",
      "INFO 09-17 17:31:52 weight_utils.py:242] Using model weights format ['*.safetensors']\n",
      "\u001b[1;36m(VllmWorkerProcess pid=543387)\u001b[0;0m INFO 09-17 17:31:52 weight_utils.py:242] Using model weights format ['*.safetensors']\n",
      "\u001b[1;36m(VllmWorkerProcess pid=543390)\u001b[0;0m INFO 09-17 17:31:52 weight_utils.py:242] Using model weights format ['*.safetensors']\n",
      "\u001b[1;36m(VllmWorkerProcess pid=543389)\u001b[0;0m INFO 09-17 17:31:53 weight_utils.py:242] Using model weights format ['*.safetensors']\n"
     ]
    },
    {
     "data": {
      "application/vnd.jupyter.widget-view+json": {
       "model_id": "2554047754f34524b2a50c6ecc0d77ee",
       "version_major": 2,
       "version_minor": 0
      },
      "text/plain": [
       "Loading safetensors checkpoint shards:   0% Completed | 0/30 [00:00<?, ?it/s]\n"
      ]
     },
     "metadata": {},
     "output_type": "display_data"
    },
    {
     "name": "stdout",
     "output_type": "stream",
     "text": [
      "\u001b[1;36m(VllmWorkerProcess pid=543385)\u001b[0;0m INFO 09-17 17:31:53 weight_utils.py:242] Using model weights format ['*.safetensors']\n",
      "INFO 09-17 17:32:00 model_runner.py:1008] Loading model weights took 16.4605 GB\n",
      "\u001b[1;36m(VllmWorkerProcess pid=543391)\u001b[0;0m INFO 09-17 17:32:00 model_runner.py:1008] Loading model weights took 16.4605 GB\n",
      "\u001b[1;36m(VllmWorkerProcess pid=543389)\u001b[0;0m INFO 09-17 17:32:01 model_runner.py:1008] Loading model weights took 16.4605 GB\n",
      "\u001b[1;36m(VllmWorkerProcess pid=543390)\u001b[0;0m INFO 09-17 17:32:01 model_runner.py:1008] Loading model weights took 16.4605 GB\n",
      "\u001b[1;36m(VllmWorkerProcess pid=543388)\u001b[0;0m INFO 09-17 17:32:01 model_runner.py:1008] Loading model weights took 16.4605 GB\n",
      "\u001b[1;36m(VllmWorkerProcess pid=543386)\u001b[0;0m INFO 09-17 17:32:02 model_runner.py:1008] Loading model weights took 16.4605 GB\n",
      "\u001b[1;36m(VllmWorkerProcess pid=543385)\u001b[0;0m INFO 09-17 17:32:03 model_runner.py:1008] Loading model weights took 16.4605 GB\n",
      "\u001b[1;36m(VllmWorkerProcess pid=543387)\u001b[0;0m INFO 09-17 17:32:03 model_runner.py:1008] Loading model weights took 16.4605 GB\n",
      "INFO 09-17 17:32:07 distributed_gpu_executor.py:57] # GPU blocks: 82648, # CPU blocks: 6553\n",
      "INFO 09-17 17:32:09 model_runner.py:1311] Capturing the model for CUDA graphs. This may lead to unexpected consequences if the model is not static. To run the model in eager mode, set 'enforce_eager=True' or use '--enforce-eager' in the CLI.\n",
      "INFO 09-17 17:32:09 model_runner.py:1315] CUDA graphs can take additional 1~3 GiB memory per GPU. If you are running out of memory, consider decreasing `gpu_memory_utilization` or enforcing eager mode. You can also reduce the `max_num_seqs` as needed to decrease memory usage.\n",
      "\u001b[1;36m(VllmWorkerProcess pid=543388)\u001b[0;0m INFO 09-17 17:32:09 model_runner.py:1311] Capturing the model for CUDA graphs. This may lead to unexpected consequences if the model is not static. To run the model in eager mode, set 'enforce_eager=True' or use '--enforce-eager' in the CLI.\n",
      "\u001b[1;36m(VllmWorkerProcess pid=543388)\u001b[0;0m INFO 09-17 17:32:09 model_runner.py:1315] CUDA graphs can take additional 1~3 GiB memory per GPU. If you are running out of memory, consider decreasing `gpu_memory_utilization` or enforcing eager mode. You can also reduce the `max_num_seqs` as needed to decrease memory usage.\n",
      "\u001b[1;36m(VllmWorkerProcess pid=543390)\u001b[0;0m INFO 09-17 17:32:09 model_runner.py:1311] Capturing the model for CUDA graphs. This may lead to unexpected consequences if the model is not static. To run the model in eager mode, set 'enforce_eager=True' or use '--enforce-eager' in the CLI.\n",
      "\u001b[1;36m(VllmWorkerProcess pid=543390)\u001b[0;0m INFO 09-17 17:32:09 model_runner.py:1315] CUDA graphs can take additional 1~3 GiB memory per GPU. If you are running out of memory, consider decreasing `gpu_memory_utilization` or enforcing eager mode. You can also reduce the `max_num_seqs` as needed to decrease memory usage.\n",
      "\u001b[1;36m(VllmWorkerProcess pid=543387)\u001b[0;0m INFO 09-17 17:32:09 model_runner.py:1311] Capturing the model for CUDA graphs. This may lead to unexpected consequences if the model is not static. To run the model in eager mode, set 'enforce_eager=True' or use '--enforce-eager' in the CLI.\n",
      "\u001b[1;36m(VllmWorkerProcess pid=543387)\u001b[0;0m INFO 09-17 17:32:09 model_runner.py:1315] CUDA graphs can take additional 1~3 GiB memory per GPU. If you are running out of memory, consider decreasing `gpu_memory_utilization` or enforcing eager mode. You can also reduce the `max_num_seqs` as needed to decrease memory usage.\n",
      "\u001b[1;36m(VllmWorkerProcess pid=543385)\u001b[0;0m \u001b[1;36m(VllmWorkerProcess pid=543386)\u001b[0;0m \u001b[1;36m(VllmWorkerProcess pid=543389)\u001b[0;0m INFO 09-17 17:32:09 model_runner.py:1311] Capturing the model for CUDA graphs. This may lead to unexpected consequences if the model is not static. To run the model in eager mode, set 'enforce_eager=True' or use '--enforce-eager' in the CLI.\n",
      "INFO 09-17 17:32:09 model_runner.py:1311] Capturing the model for CUDA graphs. This may lead to unexpected consequences if the model is not static. To run the model in eager mode, set 'enforce_eager=True' or use '--enforce-eager' in the CLI.\n",
      "\u001b[1;36m(VllmWorkerProcess pid=543386)\u001b[0;0m INFO 09-17 17:32:09 model_runner.py:1311] Capturing the model for CUDA graphs. This may lead to unexpected consequences if the model is not static. To run the model in eager mode, set 'enforce_eager=True' or use '--enforce-eager' in the CLI.\n",
      "\u001b[1;36m(VllmWorkerProcess pid=543385)\u001b[0;0m INFO 09-17 17:32:09 model_runner.py:1315] CUDA graphs can take additional 1~3 GiB memory per GPU. If you are running out of memory, consider decreasing `gpu_memory_utilization` or enforcing eager mode. You can also reduce the `max_num_seqs` as needed to decrease memory usage.\n",
      "\u001b[1;36m(VllmWorkerProcess pid=543389)\u001b[0;0m INFO 09-17 17:32:09 model_runner.py:1315] CUDA graphs can take additional 1~3 GiB memory per GPU. If you are running out of memory, consider decreasing `gpu_memory_utilization` or enforcing eager mode. You can also reduce the `max_num_seqs` as needed to decrease memory usage.\n",
      "INFO 09-17 17:32:09 model_runner.py:1315] CUDA graphs can take additional 1~3 GiB memory per GPU. If you are running out of memory, consider decreasing `gpu_memory_utilization` or enforcing eager mode. You can also reduce the `max_num_seqs` as needed to decrease memory usage.\n",
      "\u001b[1;36m(VllmWorkerProcess pid=543391)\u001b[0;0m INFO 09-17 17:32:09 model_runner.py:1311] Capturing the model for CUDA graphs. This may lead to unexpected consequences if the model is not static. To run the model in eager mode, set 'enforce_eager=True' or use '--enforce-eager' in the CLI.\n",
      "\u001b[1;36m(VllmWorkerProcess pid=543391)\u001b[0;0m INFO 09-17 17:32:09 model_runner.py:1315] CUDA graphs can take additional 1~3 GiB memory per GPU. If you are running out of memory, consider decreasing `gpu_memory_utilization` or enforcing eager mode. You can also reduce the `max_num_seqs` as needed to decrease memory usage.\n",
      "\u001b[1;36m(VllmWorkerProcess pid=543391)\u001b[0;0m \u001b[1;36m(VllmWorkerProcess pid=543387)\u001b[0;0m INFO 09-17 17:32:23 custom_all_reduce.py:223] Registering 5635 cuda graph addresses\n",
      "INFO 09-17 17:32:23 custom_all_reduce.py:223] Registering 5635 cuda graph addresses\n",
      "\u001b[1;36m(VllmWorkerProcess pid=543389)\u001b[0;0m \u001b[1;36m(VllmWorkerProcess pid=543390)\u001b[0;0m \u001b[1;36m(VllmWorkerProcess pid=543386)\u001b[0;0m \u001b[1;36m(VllmWorkerProcess pid=543385)\u001b[0;0m INFO 09-17 17:32:23 custom_all_reduce.py:223] Registering 5635 cuda graph addresses\n",
      "\u001b[1;36m(VllmWorkerProcess pid=543388)\u001b[0;0m INFO 09-17 17:32:23 custom_all_reduce.py:223] Registering 5635 cuda graph addresses\n",
      "INFO 09-17 17:32:23 custom_all_reduce.py:223] Registering 5635 cuda graph addresses\n",
      "INFO 09-17 17:32:23 custom_all_reduce.py:223] Registering 5635 cuda graph addresses\n",
      "INFO 09-17 17:32:23 custom_all_reduce.py:223] Registering 5635 cuda graph addresses\n",
      "INFO 09-17 17:32:23 custom_all_reduce.py:223] Registering 5635 cuda graph addresses\n",
      "\u001b[1;36m(VllmWorkerProcess pid=543391)\u001b[0;0m INFO 09-17 17:32:23 model_runner.py:1430] Graph capturing finished in 14 secs.\n",
      "INFO 09-17 17:32:23 model_runner.py:1430] Graph capturing finished in 14 secs.\n",
      "\u001b[1;36m(VllmWorkerProcess pid=543387)\u001b[0;0m INFO 09-17 17:32:23 model_runner.py:1430] Graph capturing finished in 14 secs.\n",
      "\u001b[1;36m(VllmWorkerProcess pid=543390)\u001b[0;0m \u001b[1;36m(VllmWorkerProcess pid=543385)\u001b[0;0m \u001b[1;36m(VllmWorkerProcess pid=543388)\u001b[0;0m INFO 09-17 17:32:23 model_runner.py:1430] Graph capturing finished in 14 secs.\n",
      "INFO 09-17 17:32:23 model_runner.py:1430] Graph capturing finished in 14 secs.\n",
      "INFO 09-17 17:32:23 model_runner.py:1430] Graph capturing finished in 14 secs.\n",
      "\u001b[1;36m(VllmWorkerProcess pid=543386)\u001b[0;0m \u001b[1;36m(VllmWorkerProcess pid=543389)\u001b[0;0m INFO 09-17 17:32:23 model_runner.py:1430] Graph capturing finished in 14 secs.\n",
      "INFO 09-17 17:32:23 model_runner.py:1430] Graph capturing finished in 14 secs.\n"
     ]
    }
   ],
   "source": [
    "from vllm import LLM, SamplingParams\n",
    "\n",
    "model_id = \"meta-llama/Meta-Llama-3.1-70B-Instruct\"\n",
    "#model_id=\"meta-llama/Meta-Llama-3.1-8B-Instruct\"\n",
    "\n",
    "tensor_parallel_size = 8\n",
    "# トークナイザーとモデルの準備\n",
    "model = LLM(\n",
    "    model=model_id,\n",
    "    trust_remote_code=True,\n",
    "    max_model_len=2000,\n",
    "    tensor_parallel_size=tensor_parallel_size,\n",
    ")"
   ]
  },
  {
   "cell_type": "code",
   "execution_count": 2,
   "metadata": {},
   "outputs": [],
   "source": [
    "temperature=0.7\n",
    "top_k=50"
   ]
  },
  {
   "cell_type": "code",
   "execution_count": 13,
   "metadata": {},
   "outputs": [],
   "source": [
    "def llm_gen(model,prompt_list,temperature=0.7,top_k=50):\n",
    "    outputs = model.generate(\n",
    "        prompt_list,\n",
    "        sampling_params=SamplingParams(\n",
    "            temperature=temperature,\n",
    "            max_tokens=1024,\n",
    "            #repetition_penalty=1.2,\n",
    "            top_k=top_k,\n",
    "        )\n",
    "    )\n",
    "    return [i.outputs[0].text.strip() for i in outputs]"
   ]
  },
  {
   "cell_type": "code",
   "execution_count": null,
   "metadata": {},
   "outputs": [],
   "source": [
    "\n",
    "tokenizer=transformers.AutoTokenizer.from_pretrained(model_id)"
   ]
  },
  {
   "cell_type": "code",
   "execution_count": 24,
   "metadata": {},
   "outputs": [
    {
     "data": {
      "text/plain": [
       "{'CompName': 'unknown',\n",
       " 'SMILES': 'C1=CC(=CC(=C1)CN)CN',\n",
       " 'Property': 'Boiling temperature',\n",
       " 'Value': 247.2222222,\n",
       " 'unit': '[oC]',\n",
       " 'Source': 'Wikipedia/Wikidata'}"
      ]
     },
     "execution_count": 24,
     "metadata": {},
     "output_type": "execute_result"
    }
   ],
   "source": [
    "from datasets import load_dataset\n",
    "\n",
    "ds=load_dataset(\"kanhatakeyama/material-properties\",split=\"train\")\n",
    "ds=ds.shuffle()"
   ]
  },
  {
   "cell_type": "code",
   "execution_count": 45,
   "metadata": {},
   "outputs": [],
   "source": [
    "\n",
    "\n",
    "def gen_problem(record):\n",
    "    comp_name=record[\"CompName\"]\n",
    "    smiles=record[\"SMILES\"]\n",
    "    unit=record[\"unit\"]\n",
    "    property_name=record[\"Property\"]\n",
    "    q=f\"\"\"Predict the {property_name} {unit} of the following compound. \n",
    "    #Restriction: Output must contain \"#Reason\" section which explains the step-by-step quantitative reasoning behind the prediction. Output must also contain \"#Predicted\" section which contains only the predicted value (number only).\n",
    "    #Name: {comp_name}\n",
    "    #SMILES: {smiles}\"\"\"\n",
    "    actual_value=record[\"Value\"]\n",
    "\n",
    "    chat = [\n",
    "        {\"role\": \"user\", \"content\": q},\n",
    "    ]\n",
    "\n",
    "\n",
    "    prompt=tokenizer.apply_chat_template(chat,tokenize=False,)\n",
    "    assist_prefix=\"assistant\\n\\n#Reason\\n\"\n",
    "    prompt+=assist_prefix\n",
    "\n",
    "    return prompt,actual_value"
   ]
  },
  {
   "cell_type": "code",
   "execution_count": null,
   "metadata": {},
   "outputs": [],
   "source": [
    "n_records=10"
   ]
  },
  {
   "cell_type": "code",
   "execution_count": 70,
   "metadata": {},
   "outputs": [
    {
     "data": {
      "text/plain": [
       "[{'record': {'CompName': 'unknown',\n",
       "   'SMILES': 'CC1=C(C=C(C=C1[N+](=O)[O-])[N+](=O)[O-])[N+](=O)[O-]',\n",
       "   'Property': 'Melting temperature',\n",
       "   'Value': 80.0,\n",
       "   'unit': '[oC]',\n",
       "   'Source': 'Wikipedia/Wikidata'},\n",
       "  'prompt': '<|begin_of_text|><|start_header_id|>system<|end_header_id|>\\n\\nCutting Knowledge Date: December 2023\\nToday Date: 26 Jul 2024\\n\\n<|eot_id|><|start_header_id|>user<|end_header_id|>\\n\\nPredict the Melting temperature [oC] of the following compound. \\n    #Restriction: Output must contain \"#Reason\" section which explains the step-by-step quantitative reasoning behind the prediction. Output must also contain \"#Predicted\" section which contains only the predicted value (number only).\\n    #Name: unknown\\n    #SMILES: CC1=C(C=C(C=C1[N+](=O)[O-])[N+](=O)[O-])[N+](=O)[O-]<|eot_id|>assistant\\n\\n#Reason\\n',\n",
       "  'actual_value': 80.0},\n",
       " {'record': {'CompName': 'Propyl gallate',\n",
       "   'SMILES': 'O=C(OCCC)c1cc(O)c(O)c(O)c1',\n",
       "   'Property': 'Melting temperature',\n",
       "   'Value': 150.0,\n",
       "   'unit': '[oC]',\n",
       "   'Source': 'Wikipedia/Wikidata'},\n",
       "  'prompt': '<|begin_of_text|><|start_header_id|>system<|end_header_id|>\\n\\nCutting Knowledge Date: December 2023\\nToday Date: 26 Jul 2024\\n\\n<|eot_id|><|start_header_id|>user<|end_header_id|>\\n\\nPredict the Melting temperature [oC] of the following compound. \\n    #Restriction: Output must contain \"#Reason\" section which explains the step-by-step quantitative reasoning behind the prediction. Output must also contain \"#Predicted\" section which contains only the predicted value (number only).\\n    #Name: Propyl gallate\\n    #SMILES: O=C(OCCC)c1cc(O)c(O)c(O)c1<|eot_id|>assistant\\n\\n#Reason\\n',\n",
       "  'actual_value': 150.0},\n",
       " {'record': {'CompName': 'unknown',\n",
       "   'SMILES': 'CCCC',\n",
       "   'Property': 'Vapor pressure',\n",
       "   'Value': 207.71625,\n",
       "   'unit': '[kPa]',\n",
       "   'Source': 'Wikipedia/Wikidata'},\n",
       "  'prompt': '<|begin_of_text|><|start_header_id|>system<|end_header_id|>\\n\\nCutting Knowledge Date: December 2023\\nToday Date: 26 Jul 2024\\n\\n<|eot_id|><|start_header_id|>user<|end_header_id|>\\n\\nPredict the Vapor pressure [kPa] of the following compound. \\n    #Restriction: Output must contain \"#Reason\" section which explains the step-by-step quantitative reasoning behind the prediction. Output must also contain \"#Predicted\" section which contains only the predicted value (number only).\\n    #Name: unknown\\n    #SMILES: CCCC<|eot_id|>assistant\\n\\n#Reason\\n',\n",
       "  'actual_value': 207.71625},\n",
       " {'record': {'CompName': 'Bromine pentafluoride',\n",
       "   'SMILES': 'FBr(F)(F)(F)F',\n",
       "   'Property': 'Melting temperature',\n",
       "   'Value': -61.3,\n",
       "   'unit': '[oC]',\n",
       "   'Source': 'Wikipedia/Wikidata'},\n",
       "  'prompt': '<|begin_of_text|><|start_header_id|>system<|end_header_id|>\\n\\nCutting Knowledge Date: December 2023\\nToday Date: 26 Jul 2024\\n\\n<|eot_id|><|start_header_id|>user<|end_header_id|>\\n\\nPredict the Melting temperature [oC] of the following compound. \\n    #Restriction: Output must contain \"#Reason\" section which explains the step-by-step quantitative reasoning behind the prediction. Output must also contain \"#Predicted\" section which contains only the predicted value (number only).\\n    #Name: Bromine pentafluoride\\n    #SMILES: FBr(F)(F)(F)F<|eot_id|>assistant\\n\\n#Reason\\n',\n",
       "  'actual_value': -61.3},\n",
       " {'record': {'CompName': 'N-Methyltyramine',\n",
       "   'SMILES': 'Oc1ccc(cc1)CCNC',\n",
       "   'Property': 'Density',\n",
       "   'Value': 1.03,\n",
       "   'unit': '[g/cm3]',\n",
       "   'Source': 'Wikipedia/Wikidata'},\n",
       "  'prompt': '<|begin_of_text|><|start_header_id|>system<|end_header_id|>\\n\\nCutting Knowledge Date: December 2023\\nToday Date: 26 Jul 2024\\n\\n<|eot_id|><|start_header_id|>user<|end_header_id|>\\n\\nPredict the Density [g/cm3] of the following compound. \\n    #Restriction: Output must contain \"#Reason\" section which explains the step-by-step quantitative reasoning behind the prediction. Output must also contain \"#Predicted\" section which contains only the predicted value (number only).\\n    #Name: N-Methyltyramine\\n    #SMILES: Oc1ccc(cc1)CCNC<|eot_id|>assistant\\n\\n#Reason\\n',\n",
       "  'actual_value': 1.03},\n",
       " {'record': {'CompName': 'unknown',\n",
       "   'SMILES': 'C(C#N)O',\n",
       "   'Property': 'Melting temperature',\n",
       "   'Value': -72.22222222,\n",
       "   'unit': '[oC]',\n",
       "   'Source': 'Wikipedia/Wikidata'},\n",
       "  'prompt': '<|begin_of_text|><|start_header_id|>system<|end_header_id|>\\n\\nCutting Knowledge Date: December 2023\\nToday Date: 26 Jul 2024\\n\\n<|eot_id|><|start_header_id|>user<|end_header_id|>\\n\\nPredict the Melting temperature [oC] of the following compound. \\n    #Restriction: Output must contain \"#Reason\" section which explains the step-by-step quantitative reasoning behind the prediction. Output must also contain \"#Predicted\" section which contains only the predicted value (number only).\\n    #Name: unknown\\n    #SMILES: C(C#N)O<|eot_id|>assistant\\n\\n#Reason\\n',\n",
       "  'actual_value': -72.22222222},\n",
       " {'record': {'CompName': 'Arsenic trisulfide',\n",
       "   'SMILES': 'S1[As]3S[As]2S[As](S[As]1S2)S3',\n",
       "   'Property': 'Boiling temperature',\n",
       "   'Value': 707.0,\n",
       "   'unit': '[oC]',\n",
       "   'Source': 'Wikipedia/Wikidata'},\n",
       "  'prompt': '<|begin_of_text|><|start_header_id|>system<|end_header_id|>\\n\\nCutting Knowledge Date: December 2023\\nToday Date: 26 Jul 2024\\n\\n<|eot_id|><|start_header_id|>user<|end_header_id|>\\n\\nPredict the Boiling temperature [oC] of the following compound. \\n    #Restriction: Output must contain \"#Reason\" section which explains the step-by-step quantitative reasoning behind the prediction. Output must also contain \"#Predicted\" section which contains only the predicted value (number only).\\n    #Name: Arsenic trisulfide\\n    #SMILES: S1[As]3S[As]2S[As](S[As]1S2)S3<|eot_id|>assistant\\n\\n#Reason\\n',\n",
       "  'actual_value': 707.0},\n",
       " {'record': {'CompName': 'unknown',\n",
       "   'SMILES': 'CCOC1=CC2=C(C=C1)[N+](=C(C=C2)C=CC3=CC(=CC=C3)[N+](=O)[O-])C.COS(=O)(=O)[O-]',\n",
       "   'Property': 'Melting temperature',\n",
       "   'Value': 253.0,\n",
       "   'unit': '[oC]',\n",
       "   'Source': 'Wikipedia/Wikidata'},\n",
       "  'prompt': '<|begin_of_text|><|start_header_id|>system<|end_header_id|>\\n\\nCutting Knowledge Date: December 2023\\nToday Date: 26 Jul 2024\\n\\n<|eot_id|><|start_header_id|>user<|end_header_id|>\\n\\nPredict the Melting temperature [oC] of the following compound. \\n    #Restriction: Output must contain \"#Reason\" section which explains the step-by-step quantitative reasoning behind the prediction. Output must also contain \"#Predicted\" section which contains only the predicted value (number only).\\n    #Name: unknown\\n    #SMILES: CCOC1=CC2=C(C=C1)[N+](=C(C=C2)C=CC3=CC(=CC=C3)[N+](=O)[O-])C.COS(=O)(=O)[O-]<|eot_id|>assistant\\n\\n#Reason\\n',\n",
       "  'actual_value': 253.0},\n",
       " {'record': {'CompName': 'Ergosterol peroxide',\n",
       "   'SMILES': 'O[C@@H]2C[C@]\\\\13OO[C@]4(/C=C/1)[C@@H]([C@]3(CC2)C)CC[C@]5(C)[C@@H]([C@@H](/C=C/[C@H](C)C(C)C)C)CC[C@@H]45',\n",
       "   'Property': 'Density',\n",
       "   'Value': 1.08,\n",
       "   'unit': '[g/cm3]',\n",
       "   'Source': 'Wikipedia/Wikidata'},\n",
       "  'prompt': '<|begin_of_text|><|start_header_id|>system<|end_header_id|>\\n\\nCutting Knowledge Date: December 2023\\nToday Date: 26 Jul 2024\\n\\n<|eot_id|><|start_header_id|>user<|end_header_id|>\\n\\nPredict the Density [g/cm3] of the following compound. \\n    #Restriction: Output must contain \"#Reason\" section which explains the step-by-step quantitative reasoning behind the prediction. Output must also contain \"#Predicted\" section which contains only the predicted value (number only).\\n    #Name: Ergosterol peroxide\\n    #SMILES: O[C@@H]2C[C@]\\\\13OO[C@]4(/C=C/1)[C@@H]([C@]3(CC2)C)CC[C@]5(C)[C@@H]([C@@H](/C=C/[C@H](C)C(C)C)C)CC[C@@H]45<|eot_id|>assistant\\n\\n#Reason\\n',\n",
       "  'actual_value': 1.08},\n",
       " {'record': {'CompName': 'unknown',\n",
       "   'SMILES': 'CCOCCOC(=O)C',\n",
       "   'Property': 'Flash temperature',\n",
       "   'Value': 51.11111111,\n",
       "   'unit': '[oC]',\n",
       "   'Source': 'Wikipedia/Wikidata'},\n",
       "  'prompt': '<|begin_of_text|><|start_header_id|>system<|end_header_id|>\\n\\nCutting Knowledge Date: December 2023\\nToday Date: 26 Jul 2024\\n\\n<|eot_id|><|start_header_id|>user<|end_header_id|>\\n\\nPredict the Flash temperature [oC] of the following compound. \\n    #Restriction: Output must contain \"#Reason\" section which explains the step-by-step quantitative reasoning behind the prediction. Output must also contain \"#Predicted\" section which contains only the predicted value (number only).\\n    #Name: unknown\\n    #SMILES: CCOCCOC(=O)C<|eot_id|>assistant\\n\\n#Reason\\n',\n",
       "  'actual_value': 51.11111111},\n",
       " {'record': {'CompName': 'unknown',\n",
       "   'SMILES': 'CC#N',\n",
       "   'Property': 'Boiling temperature',\n",
       "   'Value': 81.66666667,\n",
       "   'unit': '[oC]',\n",
       "   'Source': 'Wikipedia/Wikidata'},\n",
       "  'prompt': '<|begin_of_text|><|start_header_id|>system<|end_header_id|>\\n\\nCutting Knowledge Date: December 2023\\nToday Date: 26 Jul 2024\\n\\n<|eot_id|><|start_header_id|>user<|end_header_id|>\\n\\nPredict the Boiling temperature [oC] of the following compound. \\n    #Restriction: Output must contain \"#Reason\" section which explains the step-by-step quantitative reasoning behind the prediction. Output must also contain \"#Predicted\" section which contains only the predicted value (number only).\\n    #Name: unknown\\n    #SMILES: CC#N<|eot_id|>assistant\\n\\n#Reason\\n',\n",
       "  'actual_value': 81.66666667},\n",
       " {'record': {'CompName': 'unknown',\n",
       "   'SMILES': 'CCCSP(=S)(OCC)OC1=CC=C(C=C1)SC',\n",
       "   'Property': 'Density',\n",
       "   'Value': 1.2,\n",
       "   'unit': '[g/cm3]',\n",
       "   'Source': 'Wikipedia/Wikidata'},\n",
       "  'prompt': '<|begin_of_text|><|start_header_id|>system<|end_header_id|>\\n\\nCutting Knowledge Date: December 2023\\nToday Date: 26 Jul 2024\\n\\n<|eot_id|><|start_header_id|>user<|end_header_id|>\\n\\nPredict the Density [g/cm3] of the following compound. \\n    #Restriction: Output must contain \"#Reason\" section which explains the step-by-step quantitative reasoning behind the prediction. Output must also contain \"#Predicted\" section which contains only the predicted value (number only).\\n    #Name: unknown\\n    #SMILES: CCCSP(=S)(OCC)OC1=CC=C(C=C1)SC<|eot_id|>assistant\\n\\n#Reason\\n',\n",
       "  'actual_value': 1.2},\n",
       " {'record': {'CompName': 'unknown',\n",
       "   'SMILES': '[N+](=O)([O-])[O-].[Cs+]',\n",
       "   'Property': 'Density',\n",
       "   'Value': 3.685,\n",
       "   'unit': '[g/cm3]',\n",
       "   'Source': 'Wikipedia/Wikidata'},\n",
       "  'prompt': '<|begin_of_text|><|start_header_id|>system<|end_header_id|>\\n\\nCutting Knowledge Date: December 2023\\nToday Date: 26 Jul 2024\\n\\n<|eot_id|><|start_header_id|>user<|end_header_id|>\\n\\nPredict the Density [g/cm3] of the following compound. \\n    #Restriction: Output must contain \"#Reason\" section which explains the step-by-step quantitative reasoning behind the prediction. Output must also contain \"#Predicted\" section which contains only the predicted value (number only).\\n    #Name: unknown\\n    #SMILES: [N+](=O)([O-])[O-].[Cs+]<|eot_id|>assistant\\n\\n#Reason\\n',\n",
       "  'actual_value': 3.685},\n",
       " {'record': {'CompName': 'Jet fuel',\n",
       "   'SMILES': None,\n",
       "   'Property': 'Melting temperature',\n",
       "   'Value': -47.0,\n",
       "   'unit': '[oC]',\n",
       "   'Source': 'Wikipedia/Wikidata'},\n",
       "  'prompt': '<|begin_of_text|><|start_header_id|>system<|end_header_id|>\\n\\nCutting Knowledge Date: December 2023\\nToday Date: 26 Jul 2024\\n\\n<|eot_id|><|start_header_id|>user<|end_header_id|>\\n\\nPredict the Melting temperature [oC] of the following compound. \\n    #Restriction: Output must contain \"#Reason\" section which explains the step-by-step quantitative reasoning behind the prediction. Output must also contain \"#Predicted\" section which contains only the predicted value (number only).\\n    #Name: Jet fuel\\n    #SMILES: None<|eot_id|>assistant\\n\\n#Reason\\n',\n",
       "  'actual_value': -47.0},\n",
       " {'record': {'CompName': 'Cacodylic acid',\n",
       "   'SMILES': 'O=[As](O)(C)C',\n",
       "   'Property': 'Boiling temperature',\n",
       "   'Value': 200.0,\n",
       "   'unit': '[oC]',\n",
       "   'Source': 'Wikipedia/Wikidata'},\n",
       "  'prompt': '<|begin_of_text|><|start_header_id|>system<|end_header_id|>\\n\\nCutting Knowledge Date: December 2023\\nToday Date: 26 Jul 2024\\n\\n<|eot_id|><|start_header_id|>user<|end_header_id|>\\n\\nPredict the Boiling temperature [oC] of the following compound. \\n    #Restriction: Output must contain \"#Reason\" section which explains the step-by-step quantitative reasoning behind the prediction. Output must also contain \"#Predicted\" section which contains only the predicted value (number only).\\n    #Name: Cacodylic acid\\n    #SMILES: O=[As](O)(C)C<|eot_id|>assistant\\n\\n#Reason\\n',\n",
       "  'actual_value': 200.0},\n",
       " {'record': {'CompName': 'Bromotrifluoromethane',\n",
       "   'SMILES': 'BrC(F)(F)F',\n",
       "   'Property': 'Density',\n",
       "   'Value': 1.538,\n",
       "   'unit': '[g/cm3]',\n",
       "   'Source': 'Wikipedia/Wikidata'},\n",
       "  'prompt': '<|begin_of_text|><|start_header_id|>system<|end_header_id|>\\n\\nCutting Knowledge Date: December 2023\\nToday Date: 26 Jul 2024\\n\\n<|eot_id|><|start_header_id|>user<|end_header_id|>\\n\\nPredict the Density [g/cm3] of the following compound. \\n    #Restriction: Output must contain \"#Reason\" section which explains the step-by-step quantitative reasoning behind the prediction. Output must also contain \"#Predicted\" section which contains only the predicted value (number only).\\n    #Name: Bromotrifluoromethane\\n    #SMILES: BrC(F)(F)F<|eot_id|>assistant\\n\\n#Reason\\n',\n",
       "  'actual_value': 1.538},\n",
       " {'record': {'CompName': 'unknown',\n",
       "   'SMILES': 'CC1=CC(=O)CC(C1)(C)C',\n",
       "   'Property': 'Ionization Energy',\n",
       "   'Value': 9.07,\n",
       "   'unit': '[eV]',\n",
       "   'Source': 'Wikipedia/Wikidata'},\n",
       "  'prompt': '<|begin_of_text|><|start_header_id|>system<|end_header_id|>\\n\\nCutting Knowledge Date: December 2023\\nToday Date: 26 Jul 2024\\n\\n<|eot_id|><|start_header_id|>user<|end_header_id|>\\n\\nPredict the Ionization Energy [eV] of the following compound. \\n    #Restriction: Output must contain \"#Reason\" section which explains the step-by-step quantitative reasoning behind the prediction. Output must also contain \"#Predicted\" section which contains only the predicted value (number only).\\n    #Name: unknown\\n    #SMILES: CC1=CC(=O)CC(C1)(C)C<|eot_id|>assistant\\n\\n#Reason\\n',\n",
       "  'actual_value': 9.07},\n",
       " {'record': {'CompName': 'unknown',\n",
       "   'SMILES': 'CC1(OOC(OOC(OO1)(C)C)(C)C)C',\n",
       "   'Property': 'Melting temperature',\n",
       "   'Value': 92.5,\n",
       "   'unit': '[oC]',\n",
       "   'Source': 'Wikipedia/Wikidata'},\n",
       "  'prompt': '<|begin_of_text|><|start_header_id|>system<|end_header_id|>\\n\\nCutting Knowledge Date: December 2023\\nToday Date: 26 Jul 2024\\n\\n<|eot_id|><|start_header_id|>user<|end_header_id|>\\n\\nPredict the Melting temperature [oC] of the following compound. \\n    #Restriction: Output must contain \"#Reason\" section which explains the step-by-step quantitative reasoning behind the prediction. Output must also contain \"#Predicted\" section which contains only the predicted value (number only).\\n    #Name: unknown\\n    #SMILES: CC1(OOC(OOC(OO1)(C)C)(C)C)C<|eot_id|>assistant\\n\\n#Reason\\n',\n",
       "  'actual_value': 92.5},\n",
       " {'record': {'CompName': 'Carbon monoxide',\n",
       "   'SMILES': '[C-]#[O+]',\n",
       "   'Property': 'Absolute standard enthalpy of formation',\n",
       "   'Value': 110.5,\n",
       "   'unit': '[kJ/mol]',\n",
       "   'Source': 'Wikipedia/Wikidata'},\n",
       "  'prompt': '<|begin_of_text|><|start_header_id|>system<|end_header_id|>\\n\\nCutting Knowledge Date: December 2023\\nToday Date: 26 Jul 2024\\n\\n<|eot_id|><|start_header_id|>user<|end_header_id|>\\n\\nPredict the Absolute standard enthalpy of formation [kJ/mol] of the following compound. \\n    #Restriction: Output must contain \"#Reason\" section which explains the step-by-step quantitative reasoning behind the prediction. Output must also contain \"#Predicted\" section which contains only the predicted value (number only).\\n    #Name: Carbon monoxide\\n    #SMILES: [C-]#[O+]<|eot_id|>assistant\\n\\n#Reason\\n',\n",
       "  'actual_value': 110.5},\n",
       " {'record': {'CompName': 'unknown',\n",
       "   'SMILES': 'CCCOC(=O)C',\n",
       "   'Property': 'Ionization Energy',\n",
       "   'Value': 10.04,\n",
       "   'unit': '[eV]',\n",
       "   'Source': 'Wikipedia/Wikidata'},\n",
       "  'prompt': '<|begin_of_text|><|start_header_id|>system<|end_header_id|>\\n\\nCutting Knowledge Date: December 2023\\nToday Date: 26 Jul 2024\\n\\n<|eot_id|><|start_header_id|>user<|end_header_id|>\\n\\nPredict the Ionization Energy [eV] of the following compound. \\n    #Restriction: Output must contain \"#Reason\" section which explains the step-by-step quantitative reasoning behind the prediction. Output must also contain \"#Predicted\" section which contains only the predicted value (number only).\\n    #Name: unknown\\n    #SMILES: CCCOC(=O)C<|eot_id|>assistant\\n\\n#Reason\\n',\n",
       "  'actual_value': 10.04}]"
      ]
     },
     "execution_count": 70,
     "metadata": {},
     "output_type": "execute_result"
    }
   ],
   "source": [
    "import random\n",
    "problems=[]\n",
    "prompt_list=[\n",
    "]\n",
    "n_records=20\n",
    "for i in range(n_records):\n",
    "    record=random.choice(ds)\n",
    "    prompt,actual_value=gen_problem(record)\n",
    "    problems.append(\n",
    "        {\n",
    "         \"record\":record,\n",
    "         \"prompt\":prompt,\n",
    "         \"actual_value\":actual_value   \n",
    "        }\n",
    "\n",
    "    )\n",
    "    prompt_list.append(prompt)\n",
    "problems"
   ]
  },
  {
   "cell_type": "code",
   "execution_count": 71,
   "metadata": {},
   "outputs": [
    {
     "name": "stderr",
     "output_type": "stream",
     "text": [
      "Processed prompts:   0%|          | 0/20 [00:00<?, ?it/s, est. speed input: 0.00 toks/s, output: 0.00 toks/s]"
     ]
    },
    {
     "name": "stderr",
     "output_type": "stream",
     "text": [
      "Processed prompts: 100%|██████████| 20/20 [00:16<00:00,  1.21it/s, est. speed input: 150.48 toks/s, output: 369.16 toks/s]\n"
     ]
    }
   ],
   "source": [
    "predicted_text_list=llm_gen(model,prompt_list)"
   ]
  },
  {
   "cell_type": "code",
   "execution_count": 72,
   "metadata": {},
   "outputs": [],
   "source": [
    "for i in range(n_records):\n",
    "    problems[i][\"CompoundName\"]=problems[i][\"record\"][\"CompName\"]\n",
    "    problems[i][\"SMILES\"]=problems[i][\"record\"][\"SMILES\"]\n",
    "    problems[i][\"Property\"]=problems[i][\"record\"][\"Property\"]\n",
    "    problems[i][\"Unit\"]=problems[i][\"record\"][\"unit\"]\n",
    "    problems[i][\"predicted\"]=predicted_text_list[i].split(\"#Predicted\\n\")[-1]\n",
    "    problems[i][\"predicted_text\"]=predicted_text_list[i]"
   ]
  },
  {
   "cell_type": "code",
   "execution_count": 76,
   "metadata": {},
   "outputs": [],
   "source": [
    "import pandas as pd\n",
    "df=pd.DataFrame(problems)\n",
    "df=df.drop(columns=[\"record\",\"prompt\"])\n",
    "df.to_csv(\"predicted.csv\",index=False)"
   ]
  },
  {
   "cell_type": "code",
   "execution_count": null,
   "metadata": {},
   "outputs": [],
   "source": []
  }
 ],
 "metadata": {
  "kernelspec": {
   "display_name": "llama",
   "language": "python",
   "name": "python3"
  },
  "language_info": {
   "codemirror_mode": {
    "name": "ipython",
    "version": 3
   },
   "file_extension": ".py",
   "mimetype": "text/x-python",
   "name": "python",
   "nbconvert_exporter": "python",
   "pygments_lexer": "ipython3",
   "version": "3.10.14"
  }
 },
 "nbformat": 4,
 "nbformat_minor": 2
}
