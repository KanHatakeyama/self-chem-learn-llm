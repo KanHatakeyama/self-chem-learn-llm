{
 "cells": [
  {
   "cell_type": "code",
   "execution_count": 9,
   "metadata": {},
   "outputs": [],
   "source": [
    "from transformers import AutoTokenizer\n",
    "from datasets import load_dataset\n",
    "from tqdm import tqdm"
   ]
  },
  {
   "cell_type": "code",
   "execution_count": 5,
   "metadata": {},
   "outputs": [],
   "source": [
    "tokenizer=AutoTokenizer.from_pretrained(\"meta-llama/Meta-Llama-3.1-8B-Instruct\")\n"
   ]
  },
  {
   "cell_type": "code",
   "execution_count": 6,
   "metadata": {},
   "outputs": [],
   "source": [
    "brad_ds=load_dataset(\"kanhatakeyama/synthetic-material-data-text\",split=\"20241002Bradley\")"
   ]
  },
  {
   "cell_type": "code",
   "execution_count": 18,
   "metadata": {},
   "outputs": [],
   "source": [
    "target_ds=brad_ds\n",
    "def count_tokens(target_ds,max_records=10**10):\n",
    "    n_records=min(len(target_ds),max_records)\n",
    "    n_tokens=0\n",
    "    for i in tqdm(range(n_records)):\n",
    "        text=target_ds[i][\"text\"]\n",
    "        tokens=tokenizer.tokenize(text)\n",
    "        n_tokens+=len(tokens)\n",
    "\n",
    "    return n_tokens"
   ]
  },
  {
   "cell_type": "code",
   "execution_count": null,
   "metadata": {},
   "outputs": [],
   "source": [
    "n_tokens/10**9"
   ]
  },
  {
   "cell_type": "code",
   "execution_count": 13,
   "metadata": {},
   "outputs": [],
   "source": [
    "#pmc: 0.18 B tokens"
   ]
  },
  {
   "cell_type": "code",
   "execution_count": null,
   "metadata": {},
   "outputs": [],
   "source": [
    "pmc_ds1=load_dataset(\"hatakeyama-llm-team/pmc\",split=\"pmc003xxxxxx_0\")\n",
    "pmc_counts1=count_tokens(pmc_ds1,max_records=300000)\n",
    "pmc_counts1"
   ]
  },
  {
   "cell_type": "code",
   "execution_count": null,
   "metadata": {},
   "outputs": [],
   "source": [
    "pmc_counts1/10**9\n",
    "#0.785 B tokens"
   ]
  },
  {
   "cell_type": "code",
   "execution_count": null,
   "metadata": {},
   "outputs": [],
   "source": [
    "pmc_ds2=load_dataset(\"hatakeyama-llm-team/pmc\",split=\"PMC005xxxxxx_0\")\n",
    "pmc_counts2=count_tokens(pmc_ds2,max_records=200000)\n",
    "pmc_counts2"
   ]
  },
  {
   "cell_type": "code",
   "execution_count": null,
   "metadata": {},
   "outputs": [],
   "source": [
    "\n",
    "pmc_counts2/10**9"
   ]
  },
  {
   "cell_type": "code",
   "execution_count": null,
   "metadata": {},
   "outputs": [],
   "source": [
    "(pmc_counts1+pmc_counts2)/10**9\n"
   ]
  },
  {
   "cell_type": "code",
   "execution_count": null,
   "metadata": {},
   "outputs": [],
   "source": []
  }
 ],
 "metadata": {
  "kernelspec": {
   "display_name": "llama",
   "language": "python",
   "name": "python3"
  },
  "language_info": {
   "codemirror_mode": {
    "name": "ipython",
    "version": 3
   },
   "file_extension": ".py",
   "mimetype": "text/x-python",
   "name": "python",
   "nbconvert_exporter": "python",
   "pygments_lexer": "ipython3",
   "version": "3.10.14"
  }
 },
 "nbformat": 4,
 "nbformat_minor": 2
}
