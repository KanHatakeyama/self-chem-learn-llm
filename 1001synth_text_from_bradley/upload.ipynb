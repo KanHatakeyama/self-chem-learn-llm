{
 "cells": [
  {
   "cell_type": "code",
   "execution_count": 1,
   "metadata": {},
   "outputs": [
    {
     "data": {
      "text/plain": [
       "1"
      ]
     },
     "execution_count": 1,
     "metadata": {},
     "output_type": "execute_result"
    }
   ],
   "source": [
    "import json\n",
    "import glob\n",
    "\n",
    "dir_list=[\n",
    "    \"data\",\n",
    "]\n",
    "jsonl_path_list=[]\n",
    "for dir in dir_list:\n",
    "    jsonl_path_list+=glob.glob(dir+\"/*.jsonl\")\n",
    "\n",
    "len(jsonl_path_list)"
   ]
  },
  {
   "cell_type": "code",
   "execution_count": 2,
   "metadata": {},
   "outputs": [],
   "source": [
    "conv_list=[]\n",
    "for jsonl_path in jsonl_path_list:\n",
    "    with open(jsonl_path) as f:\n",
    "        for line in f:\n",
    "            conv_list.append(json.loads(line))"
   ]
  },
  {
   "cell_type": "code",
   "execution_count": 3,
   "metadata": {},
   "outputs": [
    {
     "data": {
      "text/plain": [
       "{'text': 'Q: What is the melting temperature of 2-cyanobenzenesulfonyl chloride?\\nA: The melting temperature of 2-cyanobenzenesulfonyl chloride is 67.0°C.\\n\\nQ: Can you provide the SMILES for 2-cyanobenzenesulfonyl chloride?\\nA: The SMILES for 2-cyanobenzenesulfonyl chloride is c1ccc(c(c1)C#N)S(=O)(=O)Cl.\\n\\nQ: What is the melting point of 6-chloro-2,3-dihydro-3-oxo-4h-1,4-benzoxazine-4-propionitrile?\\nA: 6-chloro-2,3-dihydro-3-oxo-4h-1,4-benzoxazine-4-propionitrile has a melting point of 131.0°C.\\n\\nQ: Provide the SMILES for 6-chloro-2,3-dihydro-3-oxo-4h-1,4-benzoxazine-4-propionitrile.\\nA: The SMILES for 6-chloro-2,3-dihydro-3-oxo-4h-1,4-benzoxazine-4-propionitrile is c1cc2c(cc1Cl)N(C(=O)CO2)CCC#N.\\n\\nQ: What is the melting temperature of 1,3-cyclohexanedione?\\nA: The melting temperature of 1,3-cyclohexanedione is 104.25°C.\\n\\nQ: Can you provide the SMILES for 1,3-cyclohexanedione?\\nA: The SMILES for 1,3-cyclohexanedione is C1CC(=O)CC(=O)C1.\\n\\nQ: What is the melting point of cumene?\\nA: The melting point of cumene is -96.0°C.\\n\\nQ: Provide the SMILES for cumene.\\nA: The SMILES for cumene is CC(C)c1ccccc1.'}"
      ]
     },
     "execution_count": 3,
     "metadata": {},
     "output_type": "execute_result"
    }
   ],
   "source": [
    "conv_list[0]"
   ]
  },
  {
   "cell_type": "code",
   "execution_count": 4,
   "metadata": {},
   "outputs": [],
   "source": [
    "import datasets\n",
    "dataset = datasets.Dataset.from_list(conv_list)"
   ]
  },
  {
   "cell_type": "code",
   "execution_count": 5,
   "metadata": {},
   "outputs": [
    {
     "data": {
      "application/vnd.jupyter.widget-view+json": {
       "model_id": "c6d822a4cb954c17abd79bb54f56fcd8",
       "version_major": 2,
       "version_minor": 0
      },
      "text/plain": [
       "Uploading the dataset shards:   0%|          | 0/2 [00:00<?, ?it/s]"
      ]
     },
     "metadata": {},
     "output_type": "display_data"
    },
    {
     "data": {
      "application/vnd.jupyter.widget-view+json": {
       "model_id": "27f85bc791fe462b953952b9fe2a5d89",
       "version_major": 2,
       "version_minor": 0
      },
      "text/plain": [
       "Creating parquet from Arrow format:   0%|          | 0/288 [00:00<?, ?ba/s]"
      ]
     },
     "metadata": {},
     "output_type": "display_data"
    },
    {
     "data": {
      "application/vnd.jupyter.widget-view+json": {
       "model_id": "7c0f6ea3252b442b8626f0642a5d86fa",
       "version_major": 2,
       "version_minor": 0
      },
      "text/plain": [
       "Creating parquet from Arrow format:   0%|          | 0/288 [00:00<?, ?ba/s]"
      ]
     },
     "metadata": {},
     "output_type": "display_data"
    },
    {
     "data": {
      "text/plain": [
       "CommitInfo(commit_url='https://huggingface.co/datasets/kanhatakeyama/synthetic-material-data-text/commit/ad45485155a29dfecaf728bce81ad8ea570a5925', commit_message='Upload dataset', commit_description='', oid='ad45485155a29dfecaf728bce81ad8ea570a5925', pr_url=None, pr_revision=None, pr_num=None)"
      ]
     },
     "execution_count": 5,
     "metadata": {},
     "output_type": "execute_result"
    }
   ],
   "source": [
    "#push to hub\n",
    "dataset.push_to_hub(\"kanhatakeyama/synthetic-material-data-text\",split=\"20241002Bradley\")"
   ]
  },
  {
   "cell_type": "code",
   "execution_count": null,
   "metadata": {},
   "outputs": [],
   "source": []
  }
 ],
 "metadata": {
  "kernelspec": {
   "display_name": "llama",
   "language": "python",
   "name": "python3"
  },
  "language_info": {
   "codemirror_mode": {
    "name": "ipython",
    "version": 3
   },
   "file_extension": ".py",
   "mimetype": "text/x-python",
   "name": "python",
   "nbconvert_exporter": "python",
   "pygments_lexer": "ipython3",
   "version": "3.10.14"
  }
 },
 "nbformat": 4,
 "nbformat_minor": 2
}
