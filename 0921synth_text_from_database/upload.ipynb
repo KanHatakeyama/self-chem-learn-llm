{
 "cells": [
  {
   "cell_type": "code",
   "execution_count": 2,
   "metadata": {},
   "outputs": [
    {
     "data": {
      "text/plain": [
       "2"
      ]
     },
     "execution_count": 2,
     "metadata": {},
     "output_type": "execute_result"
    }
   ],
   "source": [
    "import json\n",
    "import glob\n",
    "\n",
    "dir_list=[\n",
    "    \"data\",\n",
    "]\n",
    "jsonl_path_list=[]\n",
    "for dir in dir_list:\n",
    "    jsonl_path_list+=glob.glob(dir+\"/*.jsonl\")\n",
    "\n",
    "len(jsonl_path_list)"
   ]
  },
  {
   "cell_type": "code",
   "execution_count": 3,
   "metadata": {},
   "outputs": [],
   "source": [
    "conv_list=[]\n",
    "for jsonl_path in jsonl_path_list:\n",
    "    with open(jsonl_path) as f:\n",
    "        for line in f:\n",
    "            conv_list.append(json.loads(line))"
   ]
  },
  {
   "cell_type": "code",
   "execution_count": 4,
   "metadata": {},
   "outputs": [
    {
     "data": {
      "text/plain": [
       "{'text': 'Q: What is the boiling temperature of the compound with the SMILES notation \"CCCCC(=O)CC\"?\\nA: The boiling temperature of the compound with the SMILES notation \"CCCCC(=O)CC\" is 147.7777778°C.\\n\\nQ: What is the flash temperature of the compound with the SMILES notation \"CCCC(=O)C\"?\\nA: The flash temperature of the compound with the SMILES notation \"CCCC(=O)C\" is 7.222222222°C.\\n\\nQ: What is the boiling temperature of Potassium bromate?\\nA: The boiling temperature of Potassium bromate is 370.0°C.\\n\\nQ: What is the density of the compound with the SMILES notation \"CCCCCCCCCCCS\"?\\nA: The density of the compound with the SMILES notation \"CCCCCCCCCCCS\" is 0.84 g/cm3.\\n\\nNote: The names of the compounds with SMILES notations \"CCCCC(=O)CC\", \"CCCC(=O)C\", and \"CCCCCCCCCCCS\" are unknown.'}"
      ]
     },
     "execution_count": 4,
     "metadata": {},
     "output_type": "execute_result"
    }
   ],
   "source": [
    "conv_list[0]"
   ]
  },
  {
   "cell_type": "code",
   "execution_count": 5,
   "metadata": {},
   "outputs": [],
   "source": [
    "import datasets\n",
    "dataset = datasets.Dataset.from_list(conv_list)"
   ]
  },
  {
   "cell_type": "code",
   "execution_count": 6,
   "metadata": {},
   "outputs": [
    {
     "data": {
      "application/vnd.jupyter.widget-view+json": {
       "model_id": "845a5502039a4948b9d6e3f58b8086eb",
       "version_major": 2,
       "version_minor": 0
      },
      "text/plain": [
       "Uploading the dataset shards:   0%|          | 0/3 [00:00<?, ?it/s]"
      ]
     },
     "metadata": {},
     "output_type": "display_data"
    },
    {
     "data": {
      "application/vnd.jupyter.widget-view+json": {
       "model_id": "c32ff77afa014ba180250618ea8d566c",
       "version_major": 2,
       "version_minor": 0
      },
      "text/plain": [
       "Creating parquet from Arrow format:   0%|          | 0/467 [00:00<?, ?ba/s]"
      ]
     },
     "metadata": {},
     "output_type": "display_data"
    },
    {
     "data": {
      "application/vnd.jupyter.widget-view+json": {
       "model_id": "b9fd72208cad48518de56c136414fbc1",
       "version_major": 2,
       "version_minor": 0
      },
      "text/plain": [
       "Creating parquet from Arrow format:   0%|          | 0/467 [00:00<?, ?ba/s]"
      ]
     },
     "metadata": {},
     "output_type": "display_data"
    },
    {
     "data": {
      "application/vnd.jupyter.widget-view+json": {
       "model_id": "3fa930ebfa4d4d2fa55ea15aaf72fee4",
       "version_major": 2,
       "version_minor": 0
      },
      "text/plain": [
       "Creating parquet from Arrow format:   0%|          | 0/467 [00:00<?, ?ba/s]"
      ]
     },
     "metadata": {},
     "output_type": "display_data"
    },
    {
     "data": {
      "text/plain": [
       "CommitInfo(commit_url='https://huggingface.co/datasets/kanhatakeyama/synthetic-material-data-text/commit/3106896545cf1ef3d5dd8deaec5e9df5b7152eb4', commit_message='Upload dataset', commit_description='', oid='3106896545cf1ef3d5dd8deaec5e9df5b7152eb4', pr_url=None, pr_revision=None, pr_num=None)"
      ]
     },
     "execution_count": 6,
     "metadata": {},
     "output_type": "execute_result"
    }
   ],
   "source": [
    "#push to hub\n",
    "dataset.push_to_hub(\"kanhatakeyama/synthetic-material-data-text\",split=\"20240923wiki\")"
   ]
  },
  {
   "cell_type": "code",
   "execution_count": null,
   "metadata": {},
   "outputs": [],
   "source": []
  }
 ],
 "metadata": {
  "kernelspec": {
   "display_name": "llama",
   "language": "python",
   "name": "python3"
  },
  "language_info": {
   "codemirror_mode": {
    "name": "ipython",
    "version": 3
   },
   "file_extension": ".py",
   "mimetype": "text/x-python",
   "name": "python",
   "nbconvert_exporter": "python",
   "pygments_lexer": "ipython3",
   "version": "3.10.14"
  }
 },
 "nbformat": 4,
 "nbformat_minor": 2
}
