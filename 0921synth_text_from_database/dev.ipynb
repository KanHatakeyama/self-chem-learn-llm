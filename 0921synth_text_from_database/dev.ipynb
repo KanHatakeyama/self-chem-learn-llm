{
 "cells": [
  {
   "cell_type": "code",
   "execution_count": null,
   "metadata": {},
   "outputs": [],
   "source": [
    "\n",
    "prompts=[\n",
    "\"\"\"\n",
    "Prepare textbook-style text according to the following data.\n",
    "Never include any other number which is not given from the data.\n",
    "\"\"\"\n",
    "\n",
    "]"
   ]
  }
 ],
 "metadata": {
  "language_info": {
   "name": "python"
  }
 },
 "nbformat": 4,
 "nbformat_minor": 2
}
