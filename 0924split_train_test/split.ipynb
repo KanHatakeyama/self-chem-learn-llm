{
 "cells": [
  {
   "cell_type": "code",
   "execution_count": 1,
   "metadata": {},
   "outputs": [],
   "source": [
    "# wikipedia/wikidataのtrain, testのsplitをもう少しキチッと行う\n",
    "# やっぱり不要"
   ]
  },
  {
   "cell_type": "code",
   "execution_count": 14,
   "metadata": {},
   "outputs": [],
   "source": [
    "from datasets import load_dataset\n",
    "ds = load_dataset(\"kanhatakeyama/material-properties\", split=\"train\")\n",
    "ds=ds.shuffle(seed=1)"
   ]
  },
  {
   "cell_type": "code",
   "execution_count": 15,
   "metadata": {},
   "outputs": [
    {
     "data": {
      "text/plain": [
       "500"
      ]
     },
     "execution_count": 15,
     "metadata": {},
     "output_type": "execute_result"
    }
   ],
   "source": [
    "test_size=500\n",
    "max_records=len(ds)\n",
    "\n",
    "train_ds = ds.select(range(max_records-test_size))\n",
    "test_ds = ds.select(range(max_records-test_size, max_records))\n",
    "\n",
    "len(test_ds)"
   ]
  },
  {
   "cell_type": "code",
   "execution_count": 16,
   "metadata": {},
   "outputs": [
    {
     "data": {
      "text/plain": [
       "{'CompName': 'unknown',\n",
       " 'SMILES': 'C(=O)([O-])[O-].[OH-].[OH-].[Cu+2].[Cu+2]',\n",
       " 'Property': 'Decomposition temperature',\n",
       " 'Value': 200.0,\n",
       " 'unit': '[oC]',\n",
       " 'Source': 'Wikipedia/Wikidata'}"
      ]
     },
     "execution_count": 16,
     "metadata": {},
     "output_type": "execute_result"
    }
   ],
   "source": [
    "test_ds[0]"
   ]
  },
  {
   "cell_type": "code",
   "execution_count": 18,
   "metadata": {},
   "outputs": [],
   "source": [
    "text_ds=load_dataset(\"kanhatakeyama/synthetic-material-data-text\",split=\"20240923wiki\")"
   ]
  },
  {
   "cell_type": "code",
   "execution_count": null,
   "metadata": {},
   "outputs": [],
   "source": []
  }
 ],
 "metadata": {
  "kernelspec": {
   "display_name": "llama",
   "language": "python",
   "name": "python3"
  },
  "language_info": {
   "codemirror_mode": {
    "name": "ipython",
    "version": 3
   },
   "file_extension": ".py",
   "mimetype": "text/x-python",
   "name": "python",
   "nbconvert_exporter": "python",
   "pygments_lexer": "ipython3",
   "version": "3.10.14"
  }
 },
 "nbformat": 4,
 "nbformat_minor": 2
}
