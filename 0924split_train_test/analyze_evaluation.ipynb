{
 "cells": [
  {
   "cell_type": "code",
<<<<<<< HEAD
   "execution_count": 74,
=======
   "execution_count": 37,
>>>>>>> e234f21 (additional train)
   "metadata": {},
   "outputs": [],
   "source": [
    "import pandas as pd\n",
    "import seaborn as sns\n",
    "import matplotlib.pyplot as plt\n"
   ]
  },
  {
   "cell_type": "code",
<<<<<<< HEAD
   "execution_count": 75,
=======
   "execution_count": 38,
>>>>>>> e234f21 (additional train)
   "metadata": {},
   "outputs": [],
   "source": [
    "\n",
    "import re\n",
    "\n",
    "def parse_prediction(predicted_text_list,unit_list):\n",
    "\n",
    "    pred_list=[]\n",
    "\n",
    "    for i in range(len(predicted_text_list)):\n",
    "        text=predicted_text_list[i]\n",
    "        unit=unit_list[i]\n",
    "\n",
    "\n",
    "\n",
    "\n",
    "        # 正規表現パターンを定義: \"is\" の後に数値部分 (-?(\\d+(\\.\\d+)?))\n",
    "        pattern = r\"is\\s*(-?\\d+(\\.\\d+)?)\"\n",
    "\n",
    "        # 正規表現によるマッチング\n",
    "        match = re.search(pattern, text)\n",
    "        if match:\n",
    "            predict=(match.group())\n",
    "            #predict=predict.replace(unit,\"\").strip()\n",
    "            #predict=predict.replace(unit[1:-1],\"\").strip()\n",
    "            predict=predict.replace(\"is \",\"\").strip()\n",
    "            try:\n",
    "                pred_val=float(predict)\n",
    "            except:\n",
    "                pred_val=None\n",
    "        else:\n",
    "            pred_val=None\n",
    "\n",
    "        if pred_val is None:\n",
    "            #正規表現で､「数値」 + unitを抽出｡数値は小数点やマイナスも含む｡unitの前にスペースがある場合もない場合もある\n",
    "            unit_pattern = re.escape(unit).replace(r'\\[', r'\\[?').replace(r'\\]', r'\\]?')\n",
    "            pattern = rf\"-?\\d+(\\.\\d+)?\\s*{unit_pattern}\"\n",
    "            # 正規表現によるマッチング\n",
    "            match = re.search(pattern, text)\n",
    "            if match:\n",
    "                predict=(match.group())\n",
    "                predict=predict.replace(unit,\"\").strip()\n",
    "                predict=predict.replace(unit[1:-1],\"\").strip()\n",
    "                try:\n",
    "                    pred_val=float(predict)\n",
    "                except:\n",
    "                    pred_val=None\n",
    "        pred_list.append(pred_val)\n",
    "    return pred_list"
   ]
  },
  {
   "cell_type": "code",
   "execution_count": null,
   "metadata": {},
   "outputs": [],
   "source": [
    "import glob\n",
    "json_list=[]\n",
    "#json_list+=glob.glob(\"eval_results2/*.json\")\n",
    "#json_list+=glob.glob(\"eval_results2/meta-llama_Meta-Llama-3.1-8B-Instruct_*.json\") #original\n",
    "#json_list+=glob.glob(\"eval_results_full/*.json\")\n",
    "#json_list+=glob.glob(\"eval_results_lora_llama/*.json\")\n",
    "\n",
    "#original train\n",
    "#json_list+=glob.glob(\"/data/hatakeyama/self-loop/0920evaluate_prediction_accuracy/eval_results/*.json\")\n",
    "\n",
    "#original 70b\n",
    "#json_list+=glob.glob(\"eval_results_ori_70b/*.json\")\n",
    "\n",
    "#70b\n",
    "#json_list+=glob.glob(\"eval_results_lora_r128_70b/*.json\")\n",
    "\n",
    "#lora\n",
    "if False:\n",
    "    json_list+=glob.glob(\"eval_results_lora_r128/*.json\")\n",
    "    json_list+=glob.glob(\"eval_results_lora_r256/*.json\")\n",
    "    json_list+=glob.glob(\"eval_results_lora_r512/*.json\")\n",
    "    json_list+=glob.glob(\"eval_results_lora_r1024/*.json\")\n",
    "    json_list+=glob.glob(\"eval_results_lora_r2048/*.json\")\n",
    "\n",
    "\n",
    "#pmc\n",
    "json_list+=glob.glob(\"eval_results_pmc/*.json\")\n",
    "\n",
    "mode=\"test\"\n",
    "\n",
    "error_rate_dict={}\n",
    "count_dict={}\n",
    "json_list.sort()\n",
    "\n",
    "total_view=3\n",
    "cnt=0\n",
    "for target_json in json_list:\n",
    "    cnt+=1\n",
    "\n",
    "\n",
    "\n",
    "    #if target_json.find(mode)==-1:\n",
    "    #    continue\n",
    "\n",
    "    df=pd.read_json(target_json)\n",
    "    #predicted_valueをfloatに変更｡変換できないものはNaNにする\n",
    "    df[\"predicted_value_float\"] = pd.to_numeric(df[\"predicted_value\"], errors='coerce')\n",
    "\n",
    "    if target_json.find(\"meta\")==-1:\n",
    "        predicted_text_list=df[\"predicted_text\"].tolist()\n",
    "        unit_list=df[\"unit\"].tolist()\n",
    "        predicted_value_list=parse_prediction(predicted_text_list,unit_list)\n",
    "\n",
    "        #df内がnanの場合は、predicted_value_listを代入\n",
    "        for i in range(len(predicted_value_list)):\n",
    "            if pd.isnull(df[\"predicted_value_float\"][i]):\n",
    "                df[\"predicted_value_float\"][i]=predicted_value_list[i]\n",
    "        #df[\"predicted_value_float\"]=predicted_value_list\n",
    "\n",
    "\n",
    "    #actual_value, predicted_valueの誤差率を計算(絶対値を取る\n",
    "    df[\"error_rate\"]=(df[\"Value\"]-df[\"predicted_value_float\"])/df[\"Value\"]\n",
    "    df[\"error_rate\"]=df[\"error_rate\"].abs()\n",
    "\n",
    "    #誤差率が0以上のものを抽出\n",
    "    sel_df=df[df[\"error_rate\"]>=0]\n",
    "    sel_df[\"predicted_text\"].tolist()\n",
    "\n",
    "    #plt.figure()\n",
    "    #plt.title(target_json)\n",
    "    #sns.boxplot(x=\"error_rate\",y=\"Property\",data=sel_df)\n",
    "    #plt.xlim(-1,2)\n",
    "    #xはlog\n",
    "    #plt.xscale(\"log\")\n",
    "    #x=0.1に縦線を引く\n",
    "    #plt.axvline(x=0.1, color='r', linestyle='--')\n",
    "    if cnt<total_view:\n",
    "        plt.figure()\n",
    "        plt.title(target_json[-50:]+\"_\"+str(sel_df.shape[0]))\n",
    "        #sns.histplot(data=sel_df,x=\"error_rate\",bins=100,hue=\"Property\")\n",
    "        ax=sns.histplot(data=sel_df[sel_df[\"error_rate\"]<1],x=\"error_rate\",\n",
    "                    bins=10,hue=\"Property\",\n",
    "                    multiple=\"stack\"\n",
    "                    )\n",
    "        #plt.xlim(0,1)\n",
    "        sns.move_legend(ax, \"upper left\", bbox_to_anchor=(1, 1))\n",
    "\n",
<<<<<<< HEAD
    "    error_rate_dict[target_json]=sel_df[\"error_rate\"].median()\n",
    "    count_dict[target_json]=sel_df.shape[0]"
=======
    "    error_rate_dict[target_json]=sel_df[\"error_rate\"].median()"
>>>>>>> e234f21 (additional train)
   ]
  },
  {
   "cell_type": "code",
   "execution_count": null,
   "metadata": {},
   "outputs": [],
<<<<<<< HEAD
=======
   "source": []
  },
  {
   "cell_type": "code",
   "execution_count": null,
   "metadata": {},
   "outputs": [],
>>>>>>> e234f21 (additional train)
   "source": [
    "error_rate_df=pd.DataFrame(error_rate_dict.items(),columns=[\"json\",\"median_error_rate\"])\n",
    "count_df=pd.DataFrame(count_dict.items(),columns=[\"json\",\"count\"])\n",
    "error_rate_df=error_rate_df.merge(count_df,on=\"json\")\n",
    "error_rate_df"
   ]
  },
  {
   "cell_type": "code",
   "execution_count": null,
   "metadata": {},
   "outputs": [],
   "source": [
    "error_rate_df[\"temp\"]=error_rate_df[\"json\"].str.split(\"checkpoint-\").str[-1].str.split(\".\").str[0]\n",
    "error_rate_df[\"step\"]=error_rate_df[\"temp\"].str.split(\"_\").str[0]\n",
    "error_rate_df[\"step\"] = pd.to_numeric(error_rate_df[\"step\"], errors='coerce')\n",
    "error_rate_df[\"step\"] = error_rate_df[\"step\"].fillna(0)\n",
    "#error_rate_df[\"type\"]=error_rate_df[\"temp\"].str.split(\"_\").str[1]\n",
    "error_rate_df[\"type\"]=error_rate_df[\"json\"].str.split(\"_\").str[-1].str.split(\".\").str[0]\n",
    "sns.pointplot(data=error_rate_df,x=\"step\",y=\"median_error_rate\",hue=\"type\")"
   ]
  },
  {
   "cell_type": "code",
   "execution_count": null,
   "metadata": {},
   "outputs": [],
   "source": [
    "#合成された物性データの数\n",
    "tot_augment_records=1398000*2.5\n",
    "print(\"合成された物性データの合計\",tot_augment_records)\n",
    "\n",
    "#元の物性データの数\n",
    "tot_original_records=7000\n",
    "\n",
    "#ひとつの物性データがデータベースの中に何回出現するか\n",
    "total_records_per_property=tot_augment_records/tot_original_records\n",
    "\n",
    "#今回の学習で使う物性データの数\n",
    "trained_augment_records=200000\n",
    "trained_records_per_property=total_records_per_property*trained_augment_records/tot_augment_records\n",
    "print(\"今回の学習全体で､特定のpropertyを平均で何回学習するか\",trained_records_per_property)\n",
    "\n",
    "tot_steps=97\n",
    "seen_times_per_step=trained_records_per_property/tot_steps\n",
    "print(\"1stepあたり､特定のpropertyを平均で何回学習するか\",seen_times_per_step)"
   ]
  },
  {
   "cell_type": "code",
   "execution_count": null,
   "metadata": {},
   "outputs": [],
   "source": [
    "\n",
    "error_rate_df[\"temp\"]=error_rate_df[\"json\"].str.split(\"checkpoint-\").str[-1].str.split(\".\").str[0]\n",
    "error_rate_df[\"step\"]=error_rate_df[\"temp\"].str.split(\"_\").str[0]\n",
    "error_rate_df[\"step\"] = pd.to_numeric(error_rate_df[\"step\"], errors='coerce')\n",
    "error_rate_df[\"step\"] = error_rate_df[\"step\"].fillna(0)\n",
    "#error_rate_df[\"type\"]=error_rate_df[\"temp\"].str.split(\"_\").str[1]\n",
    "error_rate_df[\"type\"]=error_rate_df[\"json\"].str.split(\"_\").str[-1].str.split(\".\").str[0]\n",
    "error_rate_df[\"Average seen times\"]=(seen_times_per_step*error_rate_df[\"step\"]).astype(int)\n",
    "sns.pointplot(data=error_rate_df[error_rate_df[\"json\"].str.find(\"70B\")==-1],x=\"Average seen times\",y=\"median_error_rate\",hue=\"type\")"
   ]
  },
  {
   "cell_type": "code",
   "execution_count": null,
   "metadata": {},
   "outputs": [],
   "source": [
    "error_rate_df\n"
   ]
  },
  {
   "cell_type": "code",
<<<<<<< HEAD
   "execution_count": 93,
=======
   "execution_count": 46,
>>>>>>> e234f21 (additional train)
   "metadata": {},
   "outputs": [],
   "source": [
    "try:\n",
    "    error_rate_df[\"lora_r\"]=(error_rate_df[\"json\"].str.split(\"lora_r\").str[1].str.split(\"/\").str[0]).astype(int)\n",
    "    error_rate_df\n",
    "\n",
    "    plt.figure()\n",
    "    sns.pointplot(data=error_rate_df,x=\"lora_r\",y=\"median_error_rate\",hue=\"type\")\n",
    "\n",
    "    plt.figure()\n",
    "    error_rate_df[\"temp\"]=error_rate_df[\"json\"].str.split(\"checkpoint-\").str[-1].str.split(\".\").str[0]\n",
    "    error_rate_df[\"step\"]=error_rate_df[\"temp\"].str.split(\"_\").str[0]\n",
    "    error_rate_df[\"step\"] = pd.to_numeric(error_rate_df[\"step\"], errors='coerce')\n",
    "    error_rate_df[\"type\"]=error_rate_df[\"temp\"].str.split(\"_\").str[1]\n",
    "    sns.scatterplot(data=error_rate_df[error_rate_df[\"type\"]==\"train\"],x=\"step\",y=\"median_error_rate\",hue=\"type\")\n",
    "except:\n",
    "    pass"
   ]
  },
  {
   "cell_type": "code",
   "execution_count": null,
   "metadata": {},
   "outputs": [],
   "source": []
  },
  {
   "cell_type": "markdown",
   "metadata": {},
   "source": [
    "# pmcの解析"
   ]
  },
  {
   "cell_type": "code",
<<<<<<< HEAD
<<<<<<< HEAD
   "execution_count": null,
   "metadata": {},
   "outputs": [],
=======
   "execution_count": 42,
   "metadata": {},
   "outputs": [
    {
     "data": {
      "image/png": "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",
      "text/plain": [
       "<Figure size 640x480 with 1 Axes>"
      ]
     },
     "metadata": {},
     "output_type": "display_data"
    }
   ],
>>>>>>> d2b4e79 (add control)
=======
   "execution_count": null,
   "metadata": {},
   "outputs": [],
>>>>>>> e234f21 (additional train)
   "source": [
    "import copy\n",
    "#基準は10万件\n",
    "trained_records_per_property_2=trained_records_per_property/2\n",
    "\n",
    "pmc_df=copy.deepcopy(error_rate_df).drop([\"temp\",\"step\",\"Average seen times\"],axis=1)\n",
    "spl=error_rate_df[\"json\"].str.split(\"full_pmc_1-\").str[-1].str.split(\"-zero1\").str[0].str.split(\"_\")\n",
<<<<<<< HEAD
    "pmc_df[\"Trained records per fact\"]=(spl.str[0].astype(float)*trained_records_per_property_2).astype(int)\n",
=======
    "pmc_df[\"Trained records per fact\"]=(spl.str[0].astype(int)*trained_records_per_property_2).astype(int)\n",
>>>>>>> d2b4e79 (add control)
    "pmc_df[\"PMC records\"]=spl.str[1].astype(int)\n",
    "\n",
    "for mode in [\"test\",\"train\"]:\n",
    "    plt.figure()\n",
<<<<<<< HEAD
    "    ax=sns.pointplot(data=pmc_df[pmc_df[\"type\"]==mode],\n",
    "                     x=\"PMC records\",y=\"median_error_rate\",hue=\"Trained records per fact\",\n",
    "                     palette=\"viridis\",alpha=0.7)\n",
    "    sns.move_legend(ax, \"upper left\", bbox_to_anchor=(1, 1))\n",
    "    plt.title(mode)\n",
    "\n",
    "    plt.figure()\n",
    "    ax=sns.pointplot(data=pmc_df[pmc_df[\"type\"]==mode],\n",
    "                     x=\"PMC records\",y=\"count\",hue=\"Trained records per fact\",\n",
    "                     palette=\"viridis\",alpha=0.7)\n",
=======
    "    ax=sns.pointplot(data=pmc_df[pmc_df[\"type\"]==mode],x=\"PMC records\",y=\"median_error_rate\",hue=\"Trained records per fact\")\n",
>>>>>>> e234f21 (additional train)
    "    sns.move_legend(ax, \"upper left\", bbox_to_anchor=(1, 1))\n",
    "    plt.title(mode)"
   ]
  },
  {
   "cell_type": "code",
   "execution_count": null,
   "metadata": {},
   "outputs": [],
   "source": [
    "error_rate_df"
   ]
  },
  {
   "cell_type": "code",
   "execution_count": null,
   "metadata": {},
   "outputs": [],
   "source": []
  },
  {
   "cell_type": "code",
   "execution_count": null,
   "metadata": {},
   "outputs": [],
   "source": []
  }
 ],
 "metadata": {
  "kernelspec": {
   "display_name": "llama",
   "language": "python",
   "name": "python3"
  },
  "language_info": {
   "codemirror_mode": {
    "name": "ipython",
    "version": 3
   },
   "file_extension": ".py",
   "mimetype": "text/x-python",
   "name": "python",
   "nbconvert_exporter": "python",
   "pygments_lexer": "ipython3",
   "version": "3.10.14"
  }
 },
 "nbformat": 4,
 "nbformat_minor": 2
}
