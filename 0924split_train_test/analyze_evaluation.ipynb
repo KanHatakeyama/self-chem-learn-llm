{
 "cells": [
  {
   "cell_type": "code",
   "execution_count": 3,
   "metadata": {},
   "outputs": [],
   "source": [
    "import pandas as pd\n",
    "import seaborn as sns\n",
    "import matplotlib.pyplot as plt\n"
   ]
  },
  {
   "cell_type": "code",
   "execution_count": 4,
   "metadata": {},
   "outputs": [],
   "source": [
    "\n",
    "import re\n",
    "\n",
    "def parse_prediction(predicted_text_list,unit_list):\n",
    "\n",
    "    pred_list=[]\n",
    "\n",
    "    for i in range(len(predicted_text_list)):\n",
    "        text=predicted_text_list[i]\n",
    "        unit=unit_list[i]\n",
    "\n",
    "\n",
    "\n",
    "\n",
    "        # 正規表現パターンを定義: \"is\" の後に数値部分 (-?(\\d+(\\.\\d+)?))\n",
    "        pattern = r\"is\\s*(-?\\d+(\\.\\d+)?)\"\n",
    "\n",
    "        # 正規表現によるマッチング\n",
    "        match = re.search(pattern, text)\n",
    "        if match:\n",
    "            predict=(match.group())\n",
    "            #predict=predict.replace(unit,\"\").strip()\n",
    "            #predict=predict.replace(unit[1:-1],\"\").strip()\n",
    "            predict=predict.replace(\"is \",\"\").strip()\n",
    "            try:\n",
    "                pred_val=float(predict)\n",
    "            except:\n",
    "                pred_val=None\n",
    "        else:\n",
    "            pred_val=None\n",
    "\n",
    "        if pred_val is None:\n",
    "            #正規表現で､「数値」 + unitを抽出｡数値は小数点やマイナスも含む｡unitの前にスペースがある場合もない場合もある\n",
    "            unit_pattern = re.escape(unit).replace(r'\\[', r'\\[?').replace(r'\\]', r'\\]?')\n",
    "            pattern = rf\"-?\\d+(\\.\\d+)?\\s*{unit_pattern}\"\n",
    "            # 正規表現によるマッチング\n",
    "            match = re.search(pattern, text)\n",
    "            if match:\n",
    "                predict=(match.group())\n",
    "                predict=predict.replace(unit,\"\").strip()\n",
    "                predict=predict.replace(unit[1:-1],\"\").strip()\n",
    "                try:\n",
    "                    pred_val=float(predict)\n",
    "                except:\n",
    "                    pred_val=None\n",
    "        pred_list.append(pred_val)\n",
    "    return pred_list"
   ]
  },
  {
   "cell_type": "code",
   "execution_count": null,
   "metadata": {},
   "outputs": [],
   "source": [
    "import glob\n",
    "json_list=[]\n",
    "#json_list+=glob.glob(\"eval_results2/*.json\")\n",
    "#json_list+=glob.glob(\"eval_results2/meta-llama_Meta-Llama-3.1-8B-Instruct_*.json\") #original\n",
    "#json_list+=glob.glob(\"eval_results_full/*.json\")\n",
    "#json_list+=glob.glob(\"eval_results_lora_llama/*.json\")\n",
    "\n",
    "#original train\n",
    "#json_list+=glob.glob(\"/data/hatakeyama/self-loop/0920evaluate_prediction_accuracy/eval_results/*.json\")\n",
    "\n",
    "#original 70b\n",
    "json_list+=glob.glob(\"eval_results_ori_70b/*.json\")\n",
    "\n",
    "#70b\n",
    "json_list+=glob.glob(\"eval_results_lora_r128_70b/*.json\")\n",
    "\n",
    "#lora\n",
    "if False:\n",
    "    json_list+=glob.glob(\"eval_results_lora_r128/*.json\")\n",
    "    json_list+=glob.glob(\"eval_results_lora_r256/*.json\")\n",
    "    json_list+=glob.glob(\"eval_results_lora_r512/*.json\")\n",
    "    json_list+=glob.glob(\"eval_results_lora_r1024/*.json\")\n",
    "    json_list+=glob.glob(\"eval_results_lora_r2048/*.json\")\n",
    "\n",
    "mode=\"test\"\n",
    "\n",
    "error_rate_dict={}\n",
    "\n",
    "json_list.sort()\n",
    "\n",
    "for target_json in json_list:\n",
    "\n",
    "    #if target_json.find(mode)==-1:\n",
    "    #    continue\n",
    "\n",
    "    df=pd.read_json(target_json)\n",
    "    #predicted_valueをfloatに変更｡変換できないものはNaNにする\n",
    "    df[\"predicted_value_float\"] = pd.to_numeric(df[\"predicted_value\"], errors='coerce')\n",
    "\n",
    "    if target_json.find(\"meta\")==-1:\n",
    "        predicted_text_list=df[\"predicted_text\"].tolist()\n",
    "        unit_list=df[\"unit\"].tolist()\n",
    "        predicted_value_list=parse_prediction(predicted_text_list,unit_list)\n",
    "\n",
    "        #df内がnanの場合は、predicted_value_listを代入\n",
    "        for i in range(len(predicted_value_list)):\n",
    "            if pd.isnull(df[\"predicted_value_float\"][i]):\n",
    "                df[\"predicted_value_float\"][i]=predicted_value_list[i]\n",
    "        #df[\"predicted_value_float\"]=predicted_value_list\n",
    "\n",
    "\n",
    "    #actual_value, predicted_valueの誤差率を計算(絶対値を取る\n",
    "    df[\"error_rate\"]=(df[\"Value\"]-df[\"predicted_value_float\"])/df[\"Value\"]\n",
    "    df[\"error_rate\"]=df[\"error_rate\"].abs()\n",
    "\n",
    "    #誤差率が0以上のものを抽出\n",
    "    sel_df=df[df[\"error_rate\"]>=0]\n",
    "    sel_df[\"predicted_text\"].tolist()\n",
    "\n",
    "    #plt.figure()\n",
    "    #plt.title(target_json)\n",
    "    #sns.boxplot(x=\"error_rate\",y=\"Property\",data=sel_df)\n",
    "    #plt.xlim(-1,2)\n",
    "    #xはlog\n",
    "    #plt.xscale(\"log\")\n",
    "    #x=0.1に縦線を引く\n",
    "    #plt.axvline(x=0.1, color='r', linestyle='--')\n",
    "\n",
    "    plt.figure()\n",
    "    plt.title(target_json[-50:]+\"_\"+str(sel_df.shape[0]))\n",
    "    #sns.histplot(data=sel_df,x=\"error_rate\",bins=100,hue=\"Property\")\n",
    "    ax=sns.histplot(data=sel_df[sel_df[\"error_rate\"]<1],x=\"error_rate\",\n",
    "                 bins=10,hue=\"Property\",\n",
    "                multiple=\"stack\"\n",
    "                 )\n",
    "    #plt.xlim(0,1)\n",
    "    sns.move_legend(ax, \"upper left\", bbox_to_anchor=(1, 1))\n",
    "\n",
    "    error_rate_dict[target_json]=sel_df[\"error_rate\"].median()"
   ]
  },
  {
   "cell_type": "code",
   "execution_count": null,
   "metadata": {},
   "outputs": [],
   "source": [
    "error_rate_df=pd.DataFrame(error_rate_dict.items(),columns=[\"json\",\"median_error_rate\"])\n",
    "error_rate_df[\"json\"].to_list()"
   ]
  },
  {
   "cell_type": "code",
   "execution_count": null,
   "metadata": {},
   "outputs": [],
   "source": [
    "error_rate_df[\"temp\"]=error_rate_df[\"json\"].str.split(\"checkpoint-\").str[-1].str.split(\".\").str[0]\n",
    "error_rate_df[\"step\"]=error_rate_df[\"temp\"].str.split(\"_\").str[0]\n",
    "error_rate_df[\"step\"] = pd.to_numeric(error_rate_df[\"step\"], errors='coerce')\n",
    "error_rate_df[\"step\"] = error_rate_df[\"step\"].fillna(0)\n",
    "#error_rate_df[\"type\"]=error_rate_df[\"temp\"].str.split(\"_\").str[1]\n",
    "error_rate_df[\"type\"]=error_rate_df[\"json\"].str.split(\"_\").str[-1].str.split(\".\").str[0]\n",
    "sns.pointplot(data=error_rate_df[error_rate_df[\"json\"].str.find(\"70B\")==-1],x=\"step\",y=\"median_error_rate\",hue=\"type\")"
   ]
  },
  {
   "cell_type": "code",
   "execution_count": null,
   "metadata": {},
   "outputs": [],
   "source": [
    "#合成された物性データの数\n",
    "tot_augment_records=1398000*2.5\n",
    "print(\"合成された物性データの合計\",tot_augment_records)\n",
    "\n",
    "#元の物性データの数\n",
    "tot_original_records=7000\n",
    "\n",
    "#ひとつの物性データがデータベースの中に何回出現するか\n",
    "total_records_per_property=tot_augment_records/tot_original_records\n",
    "\n",
    "#今回の学習で使う物性データの数\n",
    "trained_augment_records=200000\n",
    "trained_records_per_property=total_records_per_property*trained_augment_records/tot_augment_records\n",
    "print(\"今回の学習全体で､特定のpropertyを平均で何回学習するか\",trained_records_per_property)\n",
    "\n",
    "tot_steps=97\n",
    "seen_times_per_step=trained_records_per_property/tot_steps\n",
    "print(\"1stepあたり､特定のpropertyを平均で何回学習するか\",seen_times_per_step)"
   ]
  },
  {
   "cell_type": "code",
   "execution_count": null,
   "metadata": {},
   "outputs": [],
   "source": [
    "\n",
    "error_rate_df[\"temp\"]=error_rate_df[\"json\"].str.split(\"checkpoint-\").str[-1].str.split(\".\").str[0]\n",
    "error_rate_df[\"step\"]=error_rate_df[\"temp\"].str.split(\"_\").str[0]\n",
    "error_rate_df[\"step\"] = pd.to_numeric(error_rate_df[\"step\"], errors='coerce')\n",
    "error_rate_df[\"step\"] = error_rate_df[\"step\"].fillna(0)\n",
    "#error_rate_df[\"type\"]=error_rate_df[\"temp\"].str.split(\"_\").str[1]\n",
    "error_rate_df[\"type\"]=error_rate_df[\"json\"].str.split(\"_\").str[-1].str.split(\".\").str[0]\n",
    "error_rate_df[\"Average seen times\"]=(seen_times_per_step*error_rate_df[\"step\"]).astype(int)\n",
    "sns.pointplot(data=error_rate_df[error_rate_df[\"json\"].str.find(\"70B\")==-1],x=\"Average seen times\",y=\"median_error_rate\",hue=\"type\")"
   ]
  },
  {
   "cell_type": "code",
   "execution_count": null,
   "metadata": {},
   "outputs": [],
   "source": [
    "error_rate_df\n"
   ]
  },
  {
   "cell_type": "code",
   "execution_count": null,
   "metadata": {},
   "outputs": [],
   "source": [
    "error_rate_df[\"lora_r\"]=(error_rate_df[\"json\"].str.split(\"lora_r\").str[1].str.split(\"/\").str[0]).astype(int)\n",
    "error_rate_df\n",
    "\n",
    "sns.pointplot(data=error_rate_df,x=\"lora_r\",y=\"median_error_rate\",hue=\"type\")"
   ]
  },
  {
   "cell_type": "code",
   "execution_count": null,
   "metadata": {},
   "outputs": [],
   "source": [
    "\n",
    "error_rate_df[\"temp\"]=error_rate_df[\"json\"].str.split(\"checkpoint-\").str[-1].str.split(\".\").str[0]\n",
    "error_rate_df[\"step\"]=error_rate_df[\"temp\"].str.split(\"_\").str[0]\n",
    "error_rate_df[\"step\"] = pd.to_numeric(error_rate_df[\"step\"], errors='coerce')\n",
    "error_rate_df[\"type\"]=error_rate_df[\"temp\"].str.split(\"_\").str[1]\n",
    "sns.scatterplot(data=error_rate_df[error_rate_df[\"type\"]==\"train\"],x=\"step\",y=\"median_error_rate\",hue=\"type\")"
   ]
  },
  {
   "cell_type": "code",
   "execution_count": null,
   "metadata": {},
   "outputs": [],
   "source": [
    "t=\"sftlab/experiments/test/1/output3/1-llama3_1_8b_3-zero1/checkpoint-60\"\n",
    "len(t)"
   ]
  },
  {
   "cell_type": "code",
   "execution_count": null,
   "metadata": {},
   "outputs": [],
   "source": []
  }
 ],
 "metadata": {
  "kernelspec": {
   "display_name": "llama",
   "language": "python",
   "name": "python3"
  },
  "language_info": {
   "codemirror_mode": {
    "name": "ipython",
    "version": 3
   },
   "file_extension": ".py",
   "mimetype": "text/x-python",
   "name": "python",
   "nbconvert_exporter": "python",
   "pygments_lexer": "ipython3",
   "version": "3.10.14"
  }
 },
 "nbformat": 4,
 "nbformat_minor": 2
}
